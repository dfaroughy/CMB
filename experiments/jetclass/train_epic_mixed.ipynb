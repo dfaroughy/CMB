{
 "cells": [
  {
   "cell_type": "code",
   "execution_count": 1,
   "metadata": {},
   "outputs": [
    {
     "name": "stderr",
     "output_type": "stream",
     "text": [
      "2024-09-22 23:48:23.919587: I tensorflow/tsl/cuda/cudart_stub.cc:28] Could not find cuda drivers on your machine, GPU will not be used.\n",
      "2024-09-22 23:48:23.964560: I tensorflow/tsl/cuda/cudart_stub.cc:28] Could not find cuda drivers on your machine, GPU will not be used.\n",
      "2024-09-22 23:48:23.965549: I tensorflow/core/platform/cpu_feature_guard.cc:182] This TensorFlow binary is optimized to use available CPU instructions in performance-critical operations.\n",
      "To enable the following instructions: AVX2 AVX512F FMA, in other operations, rebuild TensorFlow with the appropriate compiler flags.\n",
      "2024-09-22 23:48:24.636174: W tensorflow/compiler/tf2tensorrt/utils/py_utils.cc:38] TF-TRT Warning: Could not find TensorRT\n"
     ]
    }
   ],
   "source": [
    "from cmb.configs.experiments import Configs\n",
    "from cmb.datasets.jetclass import SampleCoupling\n",
    "from cmb.dynamics.cfm import ConditionalFlowMatching\n",
    "\n",
    "config = Configs('epic_mixed.yaml')\n",
    "jets = SampleCoupling(config=config.data, standardize=False)\n",
    "dynamics = ConditionalFlowMatching(config)\n"
   ]
  },
  {
   "cell_type": "code",
   "execution_count": 6,
   "metadata": {},
   "outputs": [
    {
     "data": {
      "image/png": "[encoded data removed]",
      "text/plain": [
       "<Figure size 300x300 with 1 Axes>"
      ]
     },
     "metadata": {},
     "output_type": "display_data"
    }
   ],
   "source": [
    "jets.target.display_cloud(10, 100)"
   ]
  },
  {
   "cell_type": "code",
   "execution_count": 14,
   "metadata": {},
   "outputs": [
    {
     "data": {
      "text/plain": [
       "(tensor([0, 0, 0, 0, 2, 0, 0, 2, 0, 0, 0, 0, 0, 0, 1, 2, 2, 0, 2, 0, 2, 1, 0, 2,\n",
       "         2, 0, 2, 1, 1, 0, 2, 2, 0, 0, 2, 2, 2, 2, 0, 0, 0, 0, 0, 0, 0, 0, 0, 0,\n",
       "         0, 0, 0, 0, 0, 0, 0, 0, 0, 0, 0, 0, 0, 0, 0, 0, 0, 0, 0, 0, 0, 0, 0, 0,\n",
       "         0, 0, 0, 0, 0, 0, 0, 0, 0, 0, 0, 0, 0, 0, 0, 0, 0, 0, 0, 0, 0, 0, 0, 0,\n",
       "         0, 0, 0, 0, 0, 0, 0, 0, 0, 0, 0, 0, 0, 0, 0, 0, 0, 0, 0, 0, 0, 0, 0, 0,\n",
       "         0, 0, 0, 0, 0, 0, 0, 0]),\n",
       " tensor([1., 1., 1., 1., 0., 1., 1., 0., 1., 1., 1., 1., 1., 1., 0., 0., 0., 1.,\n",
       "         0., 1., 0., 0., 1., 0., 0., 1., 0., 0., 0., 1., 0., 0., 1., 1., 0., 0.,\n",
       "         0., 0., 0., 0., 0., 0., 0., 0., 0., 0., 0., 0., 0., 0., 0., 0., 0., 0.,\n",
       "         0., 0., 0., 0., 0., 0., 0., 0., 0., 0., 0., 0., 0., 0., 0., 0., 0., 0.,\n",
       "         0., 0., 0., 0., 0., 0., 0., 0., 0., 0., 0., 0., 0., 0., 0., 0., 0., 0.,\n",
       "         0., 0., 0., 0., 0., 0., 0., 0., 0., 0., 0., 0., 0., 0., 0., 0., 0., 0.,\n",
       "         0., 0., 0., 0., 0., 0., 0., 0., 0., 0., 0., 0., 0., 0., 0., 0., 0., 0.,\n",
       "         0., 0.]),\n",
       " tensor([0., 0., 0., 0., 0., 0., 0., 0., 0., 0., 0., 0., 0., 0., 1., 0., 0., 0.,\n",
       "         0., 0., 0., 1., 0., 0., 0., 0., 0., 1., 1., 0., 0., 0., 0., 0., 0., 0.,\n",
       "         0., 0., 0., 0., 0., 0., 0., 0., 0., 0., 0., 0., 0., 0., 0., 0., 0., 0.,\n",
       "         0., 0., 0., 0., 0., 0., 0., 0., 0., 0., 0., 0., 0., 0., 0., 0., 0., 0.,\n",
       "         0., 0., 0., 0., 0., 0., 0., 0., 0., 0., 0., 0., 0., 0., 0., 0., 0., 0.,\n",
       "         0., 0., 0., 0., 0., 0., 0., 0., 0., 0., 0., 0., 0., 0., 0., 0., 0., 0.,\n",
       "         0., 0., 0., 0., 0., 0., 0., 0., 0., 0., 0., 0., 0., 0., 0., 0., 0., 0.,\n",
       "         0., 0.]),\n",
       " tensor([0., 0., 0., 0., 1., 0., 0., 1., 0., 0., 0., 0., 0., 0., 0., 1., 1., 0.,\n",
       "         1., 0., 1., 0., 0., 1., 1., 0., 1., 0., 0., 0., 1., 1., 0., 0., 1., 1.,\n",
       "         1., 1., 0., 0., 0., 0., 0., 0., 0., 0., 0., 0., 0., 0., 0., 0., 0., 0.,\n",
       "         0., 0., 0., 0., 0., 0., 0., 0., 0., 0., 0., 0., 0., 0., 0., 0., 0., 0.,\n",
       "         0., 0., 0., 0., 0., 0., 0., 0., 0., 0., 0., 0., 0., 0., 0., 0., 0., 0.,\n",
       "         0., 0., 0., 0., 0., 0., 0., 0., 0., 0., 0., 0., 0., 0., 0., 0., 0., 0.,\n",
       "         0., 0., 0., 0., 0., 0., 0., 0., 0., 0., 0., 0., 0., 0., 0., 0., 0., 0.,\n",
       "         0., 0.]))"
      ]
     },
     "execution_count": 14,
     "metadata": {},
     "output_type": "execute_result"
    }
   ],
   "source": [
    "jets.target.flavor[10], jets.target.isChargedHadron[10], jets.target.isNeutralHadron[10], jets.target.isPhoton[10]"
   ]
  },
  {
   "cell_type": "code",
   "execution_count": 74,
   "metadata": {},
   "outputs": [],
   "source": [
    "import torch\n",
    "\n",
    "a = torch.cat([jets.target.isPhoton.unsqueeze(1),\n",
    "               jets.target.isNeutralHadron.unsqueeze(1),\n",
    "               jets.target.isChargedHadron.unsqueeze(1) * jets.target.charge.unsqueeze(1),\n",
    "               jets.target.isElectron.unsqueeze(1) * jets.target.charge.unsqueeze(1),\n",
    "               jets.target.isMuon.unsqueeze(1) * jets.target.charge.unsqueeze(1),\n",
    "               ], dim=1).permute(0,2,1).long()"
   ]
  },
  {
   "cell_type": "code",
   "execution_count": 75,
   "metadata": {},
   "outputs": [],
   "source": [
    "import torch\n",
    "\n",
    "def combine_type_charge_by_multiplying(type_one_hot, charge):\n",
    "    \"\"\"\n",
    "    Combines one-hot encoded 'type' and 'charge' by multiplying them together,\n",
    "    resulting in a tensor with entries in [-1, 0, 1].\n",
    "\n",
    "    Args:\n",
    "    - type_one_hot (torch.Tensor): A tensor of shape (b, n, 5) with one-hot encoded types.\n",
    "    - charge (torch.Tensor): A tensor of shape (b, n) with 'charge' values (-1, 0, 1).\n",
    "\n",
    "    Returns:\n",
    "    - torch.Tensor: A tensor of shape (b, n, 5) where values are -1, 0, or 1.\n",
    "    \"\"\"\n",
    "    # Reshape charge to match one-hot dimensions and multiply\n",
    "    charge_expanded = charge.unsqueeze(-1)  # shape (b, n, 1)\n",
    "    combined = type_one_hot * charge_expanded  # shape (b, n, 5)\n",
    "\n",
    "    return combined\n",
    "\n",
    "def extract_labels_from_combined(combined):\n",
    "    \"\"\"\n",
    "    Extracts the type index and charge from the combined tensor.\n",
    "\n",
    "    Args:\n",
    "    - combined (torch.Tensor): A tensor of shape (b, n, 5) where values are -1, 0, or 1.\n",
    "\n",
    "    Returns:\n",
    "    - torch.Tensor: A tensor of shape (b, n) with type indices (0 to 4).\n",
    "    - torch.Tensor: A tensor of shape (b, n) with charge values (-1, 0, 1).\n",
    "    \"\"\"\n",
    "    # Extract the argmax and argmin\n",
    "    argmax = torch.argmax(combined, dim=-1)  # Get the index of the +1 entry\n",
    "    argmin = torch.argmin(combined, dim=-1)  # Get the index of the -1 entry\n",
    "\n",
    "    # Check for ambiguous case where the max value is 0 (neutral type)\n",
    "    # If all entries are <= 0, argmax returns index 0 even for neutral cases\n",
    "    max_values, _ = torch.max(combined, dim=-1)\n",
    "    min_values, _ = torch.min(combined, dim=-1)\n",
    "\n",
    "    # If max value is 0, it means the type is neutral\n",
    "    type_index = torch.where(max_values > 0, argmax, argmin)\n",
    "    \n",
    "    # Assign charge based on whether max_values or min_values is >0\n",
    "    charge = torch.where(max_values > 0, torch.tensor(1), torch.tensor(-1))\n",
    "    charge = torch.where(max_values == 0, torch.tensor(0), charge)  # Neutral type case\n",
    "\n",
    "    return type_index, charge\n",
    "\n",
    "def decompose_type_charge_to_onehot(type_index, charge):\n",
    "    one_hot_shape = (*type_index.shape, 5)\n",
    "    type_one_hot = torch.zeros(one_hot_shape, dtype=torch.int64)\n",
    "    type_one_hot.scatter_(-1, type_index.unsqueeze(-1), 1)\n",
    "    \n",
    "    return type_one_hot, charge"
   ]
  },
  {
   "cell_type": "code",
   "execution_count": 81,
   "metadata": {},
   "outputs": [],
   "source": [
    "b = extract_labels_from_combined(a)"
   ]
  },
  {
   "cell_type": "code",
   "execution_count": 84,
   "metadata": {},
   "outputs": [
    {
     "data": {
      "text/plain": [
       "torch.Size([128, 5])"
      ]
     },
     "execution_count": 84,
     "metadata": {},
     "output_type": "execute_result"
    }
   ],
   "source": [
    "a[0].shape"
   ]
  },
  {
   "cell_type": "code",
   "execution_count": 86,
   "metadata": {},
   "outputs": [
    {
     "data": {
      "text/plain": [
       "tensor([1, 0, 0, 0, 0, 2, 2, 2, 0, 0, 0, 0, 1, 0, 0, 2, 0, 2, 0, 0, 2, 1, 2, 0,\n",
       "        0, 0, 2, 0, 0, 0, 1, 0, 0, 2, 2, 0, 1, 1, 1, 0, 0, 2, 1, 0, 2, 2, 0, 0,\n",
       "        0, 0, 0, 2, 0, 0, 0, 2, 0, 0, 0, 0, 0, 0, 0, 0, 0, 0, 0, 0, 0, 2, 0, 0,\n",
       "        0, 0, 0, 0, 0, 0, 0, 0, 0, 0, 0, 0, 0, 0, 0, 0, 0, 0, 0, 0, 0, 0, 0, 0,\n",
       "        0, 0, 0, 0, 0, 0, 0, 0, 0, 0, 0, 0, 0, 0, 0, 0, 0, 0, 0, 0, 0, 0, 0, 0,\n",
       "        0, 0, 0, 0, 0, 0, 0, 0])"
      ]
     },
     "execution_count": 86,
     "metadata": {},
     "output_type": "execute_result"
    }
   ],
   "source": [
    "torch.argmax(a, dim=-1) [0]"
   ]
  },
  {
   "cell_type": "code",
   "execution_count": 87,
   "metadata": {},
   "outputs": [
    {
     "data": {
      "text/plain": [
       "tensor([[ 0,  1,  0,  0,  0],\n",
       "        [ 1,  0,  0,  0,  0],\n",
       "        [ 0,  0, -1,  0,  0],\n",
       "        [ 1,  0,  0,  0,  0],\n",
       "        [ 0,  0, -1,  0,  0],\n",
       "        [ 0,  0,  1,  0,  0],\n",
       "        [ 0,  0,  1,  0,  0],\n",
       "        [ 0,  0,  1,  0,  0],\n",
       "        [ 1,  0,  0,  0,  0],\n",
       "        [ 1,  0,  0,  0,  0],\n",
       "        [ 0,  0, -1,  0,  0],\n",
       "        [ 0,  0, -1,  0,  0],\n",
       "        [ 0,  1,  0,  0,  0],\n",
       "        [ 0,  0, -1,  0,  0],\n",
       "        [ 0,  0, -1,  0,  0],\n",
       "        [ 0,  0,  1,  0,  0],\n",
       "        [ 0,  0, -1,  0,  0],\n",
       "        [ 0,  0,  1,  0,  0],\n",
       "        [ 1,  0,  0,  0,  0],\n",
       "        [ 0,  0, -1,  0,  0],\n",
       "        [ 0,  0,  1,  0,  0],\n",
       "        [ 0,  1,  0,  0,  0],\n",
       "        [ 0,  0,  1,  0,  0],\n",
       "        [ 1,  0,  0,  0,  0],\n",
       "        [ 0,  0, -1,  0,  0],\n",
       "        [ 0,  0, -1,  0,  0],\n",
       "        [ 0,  0,  1,  0,  0],\n",
       "        [ 1,  0,  0,  0,  0],\n",
       "        [ 0,  0, -1,  0,  0],\n",
       "        [ 0,  0, -1,  0,  0],\n",
       "        [ 0,  1,  0,  0,  0],\n",
       "        [ 1,  0,  0,  0,  0],\n",
       "        [ 0,  0, -1,  0,  0],\n",
       "        [ 0,  0,  1,  0,  0],\n",
       "        [ 0,  0,  1,  0,  0],\n",
       "        [ 1,  0,  0,  0,  0],\n",
       "        [ 0,  1,  0,  0,  0],\n",
       "        [ 0,  1,  0,  0,  0],\n",
       "        [ 0,  1,  0,  0,  0],\n",
       "        [ 1,  0,  0,  0,  0],\n",
       "        [ 1,  0,  0,  0,  0],\n",
       "        [ 0,  0,  1,  0,  0],\n",
       "        [ 0,  1,  0,  0,  0],\n",
       "        [ 0,  0, -1,  0,  0],\n",
       "        [ 0,  0,  1,  0,  0],\n",
       "        [ 0,  0,  1,  0,  0],\n",
       "        [ 1,  0,  0,  0,  0],\n",
       "        [ 1,  0,  0,  0,  0],\n",
       "        [ 1,  0,  0,  0,  0],\n",
       "        [ 0,  0, -1,  0,  0],\n",
       "        [ 1,  0,  0,  0,  0],\n",
       "        [ 0,  0,  1,  0,  0],\n",
       "        [ 1,  0,  0,  0,  0],\n",
       "        [ 1,  0,  0,  0,  0],\n",
       "        [ 1,  0,  0,  0,  0],\n",
       "        [ 0,  0,  1,  0,  0],\n",
       "        [ 1,  0,  0,  0,  0],\n",
       "        [ 1,  0,  0,  0,  0],\n",
       "        [ 0,  0, -1,  0,  0],\n",
       "        [ 1,  0,  0,  0,  0],\n",
       "        [ 1,  0,  0,  0,  0],\n",
       "        [ 0,  0, -1,  0,  0],\n",
       "        [ 1,  0,  0,  0,  0],\n",
       "        [ 1,  0,  0,  0,  0],\n",
       "        [ 1,  0,  0,  0,  0],\n",
       "        [ 1,  0,  0,  0,  0],\n",
       "        [ 1,  0,  0,  0,  0],\n",
       "        [ 1,  0,  0,  0,  0],\n",
       "        [ 1,  0,  0,  0,  0],\n",
       "        [ 0,  0,  1,  0,  0],\n",
       "        [ 0,  0,  0,  0,  0],\n",
       "        [ 0,  0,  0,  0,  0],\n",
       "        [ 0,  0,  0,  0,  0],\n",
       "        [ 0,  0,  0,  0,  0],\n",
       "        [ 0,  0,  0,  0,  0],\n",
       "        [ 0,  0,  0,  0,  0],\n",
       "        [ 0,  0,  0,  0,  0],\n",
       "        [ 0,  0,  0,  0,  0],\n",
       "        [ 0,  0,  0,  0,  0],\n",
       "        [ 0,  0,  0,  0,  0],\n",
       "        [ 0,  0,  0,  0,  0],\n",
       "        [ 0,  0,  0,  0,  0],\n",
       "        [ 0,  0,  0,  0,  0],\n",
       "        [ 0,  0,  0,  0,  0],\n",
       "        [ 0,  0,  0,  0,  0],\n",
       "        [ 0,  0,  0,  0,  0],\n",
       "        [ 0,  0,  0,  0,  0],\n",
       "        [ 0,  0,  0,  0,  0],\n",
       "        [ 0,  0,  0,  0,  0],\n",
       "        [ 0,  0,  0,  0,  0],\n",
       "        [ 0,  0,  0,  0,  0],\n",
       "        [ 0,  0,  0,  0,  0],\n",
       "        [ 0,  0,  0,  0,  0],\n",
       "        [ 0,  0,  0,  0,  0],\n",
       "        [ 0,  0,  0,  0,  0],\n",
       "        [ 0,  0,  0,  0,  0],\n",
       "        [ 0,  0,  0,  0,  0],\n",
       "        [ 0,  0,  0,  0,  0],\n",
       "        [ 0,  0,  0,  0,  0],\n",
       "        [ 0,  0,  0,  0,  0],\n",
       "        [ 0,  0,  0,  0,  0],\n",
       "        [ 0,  0,  0,  0,  0],\n",
       "        [ 0,  0,  0,  0,  0],\n",
       "        [ 0,  0,  0,  0,  0],\n",
       "        [ 0,  0,  0,  0,  0],\n",
       "        [ 0,  0,  0,  0,  0],\n",
       "        [ 0,  0,  0,  0,  0],\n",
       "        [ 0,  0,  0,  0,  0],\n",
       "        [ 0,  0,  0,  0,  0],\n",
       "        [ 0,  0,  0,  0,  0],\n",
       "        [ 0,  0,  0,  0,  0],\n",
       "        [ 0,  0,  0,  0,  0],\n",
       "        [ 0,  0,  0,  0,  0],\n",
       "        [ 0,  0,  0,  0,  0],\n",
       "        [ 0,  0,  0,  0,  0],\n",
       "        [ 0,  0,  0,  0,  0],\n",
       "        [ 0,  0,  0,  0,  0],\n",
       "        [ 0,  0,  0,  0,  0],\n",
       "        [ 0,  0,  0,  0,  0],\n",
       "        [ 0,  0,  0,  0,  0],\n",
       "        [ 0,  0,  0,  0,  0],\n",
       "        [ 0,  0,  0,  0,  0],\n",
       "        [ 0,  0,  0,  0,  0],\n",
       "        [ 0,  0,  0,  0,  0],\n",
       "        [ 0,  0,  0,  0,  0],\n",
       "        [ 0,  0,  0,  0,  0],\n",
       "        [ 0,  0,  0,  0,  0],\n",
       "        [ 0,  0,  0,  0,  0]])"
      ]
     },
     "execution_count": 87,
     "metadata": {},
     "output_type": "execute_result"
    }
   ],
   "source": [
    "a[0]"
   ]
  },
  {
   "cell_type": "code",
   "execution_count": null,
   "metadata": {},
   "outputs": [],
   "source": []
  },
  {
   "cell_type": "code",
   "execution_count": null,
   "metadata": {},
   "outputs": [],
   "source": []
  },
  {
   "cell_type": "code",
   "execution_count": 2,
   "metadata": {},
   "outputs": [
    {
     "data": {
      "image/png": "[encoded data removed]",
      "text/plain": [
       "<Figure size 700x200 with 3 Axes>"
      ]
     },
     "metadata": {},
     "output_type": "display_data"
    }
   ],
   "source": [
    "import matplotlib.pyplot as plt\n",
    "\n",
    "fig, ax = plt.subplots(1,3, figsize=(7,2))\n",
    "jets.source.histplot('pt_rel', ax=ax[0], log_scale=(False,True))\n",
    "jets.target.histplot('pt_rel', ax=ax[0], log_scale=(False,True))\n",
    "jets.source.histplot('eta_rel', binrange=(-1,1), binwidth=0.02, ax=ax[1])\n",
    "jets.target.histplot('eta_rel', binrange=(-1,1), binwidth=0.02,ax=ax[1])\n",
    "jets.source.histplot('phi_rel', binrange=(-1,1), binwidth=0.02,ax=ax[2], label='source')\n",
    "jets.target.histplot('phi_rel',binrange=(-1,1), binwidth=0.02, ax=ax[2], label='target')\n",
    "ax[2].legend(fontsize=6)\n",
    "plt.tight_layout()\n",
    "plt.show()"
   ]
  },
  {
   "cell_type": "code",
   "execution_count": 3,
   "metadata": {},
   "outputs": [
    {
     "data": {
      "text/plain": [
       "(None, None)"
      ]
     },
     "execution_count": 3,
     "metadata": {},
     "output_type": "execute_result"
    },
    {
     "data": {
      "image/png": "[encoded data removed]",
      "text/plain": [
       "<Figure size 300x300 with 1 Axes>"
      ]
     },
     "metadata": {},
     "output_type": "display_data"
    },
    {
     "data": {
      "image/png": "[encoded data removed]",
      "text/plain": [
       "<Figure size 300x300 with 1 Axes>"
      ]
     },
     "metadata": {},
     "output_type": "display_data"
    }
   ],
   "source": [
    "jets.source.display_cloud(idx=10,  scale_marker=100.0), jets.target.display_cloud(idx=10,  scale_marker=100.0)"
   ]
  },
  {
   "cell_type": "code",
   "execution_count": 18,
   "metadata": {},
   "outputs": [],
   "source": [
    "import torch\n",
    "from torch import nn\n",
    "\n",
    "from cmb.models.architectures.epic import EPiC\n",
    "\n",
    "class HybridEPiC(nn.Module):\n",
    "    ''' MLP architecture for hybrid continuous-discrete models\n",
    "    '''\n",
    "    def __init__(self, config):\n",
    "        super().__init__()\n",
    "        self.dim_features_continuous = config.data.dim.features.continuous\n",
    "        self.dim_features_discrete = config.data.dim.features.discrete\n",
    "        self.vocab_size = config.data.vocab_size.features\n",
    "        \n",
    "        self.epic = EPiC(config)\n",
    "\n",
    "    def forward(self, t, x, k, context_continuous=None, context_discrete=None, mask=None):\n",
    "        h = self.mlp(t, x, k, context_continuous, context_discrete, mask)\n",
    "        continuous_head = h[:, :self.dim_features_continuous]\n",
    "        discrete_head = h[:, self.dim_features_continuous:]\n",
    "        logits = discrete_head.reshape(k.size(0), self.dim_features_discrete, self.vocab_size)\n",
    "        return continuous_head, logits\n",
    "    "
   ]
  },
  {
   "cell_type": "code",
   "execution_count": 19,
   "metadata": {},
   "outputs": [],
   "source": [
    "import torch \n",
    "from dataclasses import dataclass\n",
    "from torch.nn import MSELoss, CrossEntropyLoss\n",
    "from torch.distributions import Categorical \n",
    "\n",
    "from cmb.dynamics.utils import OTPlanSampler\n",
    "from cmb.dynamics.processes import TelegraphProcess\n",
    "\n",
    "class ConditionalMarkovBridge :\n",
    "    ''' Conditional Markov Bridge base class\n",
    "    '''\n",
    "    def __init__(self, config: dataclass):\n",
    "\n",
    "        self.config = config.dynamics\n",
    "        self.vocab_size = config.data.vocab_size.features\n",
    "\n",
    "        self.ref_process = TelegraphProcess(config)\n",
    "        self.loss_continuous_fn = MSELoss(reduction='sum')\n",
    "        self.loss_discrete_fn = CrossEntropyLoss(reduction='sum')\n",
    "    \n",
    "    def sample_coupling(self, batch):\n",
    "        \"\"\" conditional variable z = (x_0, x1) ~ pi(x_0, x_1)\n",
    "        \"\"\"\t\t\n",
    "        self.x0 = batch.source_continuous\n",
    "        self.x1 = batch.target_continuous\n",
    "        self.k0 = batch.source_discrete\n",
    "        self.k1 = batch.target_discrete\n",
    "        self.context_continuous = batch.target_context_continuous if hasattr(batch, 'target_context_continuous') else None\n",
    "        self.context_discrete = batch.target_context_discrete if hasattr(batch, 'target_context_discrete') else None\n",
    "        self.mask = batch.target_mask if hasattr(batch, 'target_mask') else torch.ones_like(self.x0[..., 0]).unsqueeze(-1)\n",
    "\n",
    "    def sample_time(self):\n",
    "        \"\"\" sample time: t ~ U[0,1]\n",
    "        \"\"\"\n",
    "        t = torch.rand(self.x1.shape[0], device=self.x1.device).type_as(self.x1)\n",
    "        self.t = self.reshape_time(t, self.x1)\n",
    "\n",
    "    def sample_bridge(self):\n",
    "        \"\"\" sample continuous features from gaussian probability path: x_t ~ p_t(x|x_0, x_1)\n",
    "        \"\"\"\n",
    "        #...continuous:\n",
    "        mean = self.t * self.x1 + (1. - self.t) * self.x0\n",
    "        std = self.config.sigma\n",
    "        self.bridge_continuous = mean + std * torch.randn_like(mean)\n",
    "\t\n",
    "        #...discrete:        \n",
    "        k = torch.arange(0, self.vocab_size)\n",
    "        if self.k0.dim() == 1: self.k0 = self.k0.unsqueeze(1)  # Add an extra dimension if needed\n",
    "        if self.k1.dim() == 1: self.k1 = self.k1.unsqueeze(1)\n",
    "\n",
    "        k = k[None, None, :].repeat(self.k0.size(0), self.k0.size(1), 1).float()\n",
    "        k = k.to(self.k0.device)\n",
    "\n",
    "        print(k.shape, self.k1.shape, self.k0.shape, self.t.shape)\n",
    "        transition_probs = self.ref_process.bridge_probability(k, self.k1, self.k0, self.t.squeeze())\n",
    "        self.bridge_discrete = Categorical(transition_probs).sample().to(self.k1.device)\n",
    "\n",
    "    def get_drift(self):\n",
    "        \"\"\" conditional drift u_t(x|x_0,x_1)\n",
    "        \"\"\"\n",
    "        A = 0.\n",
    "        B = 1.\n",
    "        C = -1.\n",
    "        self.drift = A * self.bridge_continuous + B * self.x1 + C * self.x0\n",
    "\n",
    "    def loss(self, model, batch):\n",
    "        \"\"\" conditional flow-mathcing MSE loss + jump-matching CE loss\n",
    "        \"\"\"\n",
    "        self.sample_coupling(batch)\n",
    "        self.sample_time() \n",
    "        self.sample_bridge()\n",
    "        self.get_drift()\n",
    "\n",
    "        vt, logits = model(t=self.t, \n",
    "                           x=self.bridge_continuous, \n",
    "                           k=self.bridge_discrete, \n",
    "                           context_continuous=self.context_continuous, \n",
    "                           context_discrete=self.context_discrete, \n",
    "                           mask=self.mask,                    \n",
    "                           output_rates=False)\n",
    "        \n",
    "        logits = logits.reshape(-1, self.vocab_size)\n",
    "        targets = self.k1.reshape(-1).long()\n",
    "        targets = targets.to(logits.device)\n",
    "        ut = self.drift.to(vt.device)\n",
    "        loss = self.loss_continuous_fn(vt, ut) + self.config.lam * self.loss_discrete_fn(logits, targets)\n",
    "\n",
    "        return loss / self.mask.sum()\n",
    "\n",
    "    def reshape_time(self, t, x):\n",
    "        if isinstance(t, (float, int)): return t\n",
    "        else: return t.reshape(-1, *([1] * (x.dim() - 1)))\n",
    "\n",
    "class OTCMB(ConditionalMarkovBridge):\n",
    "    def sample_coupling(self, batch):\n",
    "        OT = OTPlanSampler()\t\n",
    "        self.x0 = batch.source_continuous\n",
    "        self.x1 = batch.target_continuous\n",
    "        self.k0 = batch.source_discrete\n",
    "        self.k1 = batch.target_discrete\n",
    "        pi = OT.get_map(self.x0, self.x1)\n",
    "        idx_0, idx_1 = OT.sample_map(pi, self.x0.shape[0], replace=False)\n",
    "        self.x0, self.x1 = self.x0[idx_0], self.x1[idx_1]\n",
    "        self.k0, self.k1 = self.k0[idx_0], self.k1[idx_1]\n",
    "        self.context_continuous = batch.target_context_continuous if hasattr(batch, 'target_context_continuous') else None\n",
    "        self.context_discrete = batch.target_context_discrete if hasattr(batch, 'target_context_discrete') else None\n",
    "        self.mask = batch.target_mask if hasattr(batch, 'target_mask') else torch.ones_like(self.x0[..., 0]).unsqueeze(-1)\n",
    "\n",
    "\n",
    "class SBCMB(ConditionalMarkovBridge):\n",
    "    def sample_coupling(self, batch):\n",
    "        regulator = 2 * self.config.sigma**2\n",
    "        SB = OTPlanSampler(reg=regulator)\t\n",
    "        self.x0 = batch.source_continuous\n",
    "        self.x1 = batch.target_continuous\n",
    "        self.k0 = batch.source_discrete\n",
    "        self.k1 = batch.target_discrete\n",
    "        pi = SB.get_map(self.x0, self.x1)\n",
    "        idx_0, idx_1 = SB.sample_map(pi, self.x0.shape[0], replace=False)\n",
    "        self.x0, self.x1 = self.x0[idx_0], self.x1[idx_1]\n",
    "        self.k0, self.k1 = self.k0[idx_0], self.k1[idx_1]\n",
    "        self.context_continuous = batch.target_context_continuous if hasattr(batch, 'target_context_continuous') else None\n",
    "        self.context_discrete = batch.target_context_discrete if hasattr(batch, 'target_context_discrete') else None\n",
    "        self.mask = batch.target_mask if hasattr(batch, 'target_mask') else torch.ones_like(self.x0[..., 0]).unsqueeze(-1)\n",
    "\n",
    "    def sample_continuous_bridge(self):\n",
    "        self.mean = self.t * self.x1 + (1 - self.t) * self.x0\n",
    "        std = self.config.sigma * torch.sqrt(self.t * (1 - self.t))\n",
    "        self.continuous_bridge = self.mean + std * torch.randn_like(self.mean)\n",
    "\t\t\n",
    "    def get_drift(self):\n",
    "        \"\"\" conditional drift u_t(x|x_0,x_1)\n",
    "        \"\"\"\n",
    "        A = (1 - 2 * self.t) / ( self.t * (1 - self.t))\n",
    "        B = self.t**2 / ( self.t * (1 - self.t))\n",
    "        C = -1 * (1 - self.t)**2 / ( self.t * (1 - self.t))\n",
    "\n",
    "        self.drift = A * self.continuous_bridge + B * self.x1 + C * self.x0"
   ]
  },
  {
   "cell_type": "code",
   "execution_count": 44,
   "metadata": {},
   "outputs": [
    {
     "data": {
      "text/plain": [
       "tensor([[ 0., -1.],\n",
       "        [ 0., -1.],\n",
       "        [ 0.,  1.],\n",
       "        [ 0.,  1.],\n",
       "        [ 2.,  0.],\n",
       "        [ 0.,  1.],\n",
       "        [ 0., -1.],\n",
       "        [ 2.,  0.],\n",
       "        [ 0., -1.],\n",
       "        [ 0.,  1.],\n",
       "        [ 0., -1.],\n",
       "        [ 0., -1.],\n",
       "        [ 0., -1.],\n",
       "        [ 0., -1.],\n",
       "        [ 0.,  0.],\n",
       "        [ 2.,  0.],\n",
       "        [ 2.,  0.],\n",
       "        [ 0., -1.],\n",
       "        [ 2.,  0.],\n",
       "        [ 0.,  1.],\n",
       "        [ 2.,  0.],\n",
       "        [ 0.,  0.],\n",
       "        [ 0., -1.],\n",
       "        [ 2.,  0.],\n",
       "        [ 2.,  0.],\n",
       "        [ 0., -1.],\n",
       "        [ 2.,  0.],\n",
       "        [ 0.,  0.],\n",
       "        [ 0.,  0.],\n",
       "        [ 0.,  1.],\n",
       "        [ 2.,  0.],\n",
       "        [ 2.,  0.],\n",
       "        [ 0., -1.],\n",
       "        [ 0.,  1.],\n",
       "        [ 2.,  0.],\n",
       "        [ 2.,  0.],\n",
       "        [ 2.,  0.],\n",
       "        [ 2.,  0.],\n",
       "        [ 0.,  0.],\n",
       "        [ 0.,  0.],\n",
       "        [ 0.,  0.],\n",
       "        [ 0.,  0.],\n",
       "        [ 0.,  0.],\n",
       "        [ 0.,  0.],\n",
       "        [ 0.,  0.],\n",
       "        [ 0.,  0.],\n",
       "        [ 0.,  0.],\n",
       "        [ 0.,  0.],\n",
       "        [ 0.,  0.],\n",
       "        [ 0.,  0.],\n",
       "        [ 0.,  0.],\n",
       "        [ 0.,  0.],\n",
       "        [ 0.,  0.],\n",
       "        [ 0.,  0.],\n",
       "        [ 0.,  0.],\n",
       "        [ 0.,  0.],\n",
       "        [ 0.,  0.],\n",
       "        [ 0.,  0.],\n",
       "        [ 0.,  0.],\n",
       "        [ 0.,  0.],\n",
       "        [ 0.,  0.],\n",
       "        [ 0.,  0.],\n",
       "        [ 0.,  0.],\n",
       "        [ 0.,  0.],\n",
       "        [ 0.,  0.],\n",
       "        [ 0.,  0.],\n",
       "        [ 0.,  0.],\n",
       "        [ 0.,  0.],\n",
       "        [ 0.,  0.],\n",
       "        [ 0.,  0.],\n",
       "        [ 0.,  0.],\n",
       "        [ 0.,  0.],\n",
       "        [ 0.,  0.],\n",
       "        [ 0.,  0.],\n",
       "        [ 0.,  0.],\n",
       "        [ 0.,  0.],\n",
       "        [ 0.,  0.],\n",
       "        [ 0.,  0.],\n",
       "        [ 0.,  0.],\n",
       "        [ 0.,  0.],\n",
       "        [ 0.,  0.],\n",
       "        [ 0.,  0.],\n",
       "        [ 0.,  0.],\n",
       "        [ 0.,  0.],\n",
       "        [ 0.,  0.],\n",
       "        [ 0.,  0.],\n",
       "        [ 0.,  0.],\n",
       "        [ 0.,  0.],\n",
       "        [ 0.,  0.],\n",
       "        [ 0.,  0.],\n",
       "        [ 0.,  0.],\n",
       "        [ 0.,  0.],\n",
       "        [ 0.,  0.],\n",
       "        [ 0.,  0.],\n",
       "        [ 0.,  0.],\n",
       "        [ 0.,  0.],\n",
       "        [ 0.,  0.],\n",
       "        [ 0.,  0.],\n",
       "        [ 0.,  0.],\n",
       "        [ 0.,  0.],\n",
       "        [ 0.,  0.],\n",
       "        [ 0.,  0.],\n",
       "        [ 0.,  0.],\n",
       "        [ 0.,  0.],\n",
       "        [ 0.,  0.],\n",
       "        [ 0.,  0.],\n",
       "        [ 0.,  0.],\n",
       "        [ 0.,  0.],\n",
       "        [ 0.,  0.],\n",
       "        [ 0.,  0.],\n",
       "        [ 0.,  0.],\n",
       "        [ 0.,  0.],\n",
       "        [ 0.,  0.],\n",
       "        [ 0.,  0.],\n",
       "        [ 0.,  0.],\n",
       "        [ 0.,  0.],\n",
       "        [ 0.,  0.],\n",
       "        [ 0.,  0.],\n",
       "        [ 0.,  0.],\n",
       "        [ 0.,  0.],\n",
       "        [ 0.,  0.],\n",
       "        [ 0.,  0.],\n",
       "        [ 0.,  0.],\n",
       "        [ 0.,  0.],\n",
       "        [ 0.,  0.],\n",
       "        [ 0.,  0.],\n",
       "        [ 0.,  0.],\n",
       "        [ 0.,  0.]])"
      ]
     },
     "execution_count": 44,
     "metadata": {},
     "output_type": "execute_result"
    }
   ],
   "source": [
    "jets.target.discrete[10]"
   ]
  },
  {
   "cell_type": "code",
   "execution_count": 33,
   "metadata": {},
   "outputs": [
    {
     "data": {
      "text/plain": [
       "tensor([False, False, False, False, False,  True,  True,  True, False, False,\n",
       "        False, False, False, False, False,  True, False,  True, False, False,\n",
       "         True, False,  True, False, False, False,  True, False, False, False,\n",
       "        False, False, False,  True,  True, False, False, False, False, False,\n",
       "        False,  True, False, False,  True,  True, False, False, False, False,\n",
       "        False,  True, False, False, False,  True, False, False, False, False,\n",
       "        False, False, False, False, False, False, False, False, False,  True,\n",
       "        False, False, False, False, False, False, False, False, False, False,\n",
       "        False, False, False, False, False, False, False, False, False, False,\n",
       "        False, False, False, False, False, False, False, False, False, False,\n",
       "        False, False, False, False, False, False, False, False, False, False,\n",
       "        False, False, False, False, False, False, False, False, False, False,\n",
       "        False, False, False, False, False, False, False, False])"
      ]
     },
     "execution_count": 33,
     "metadata": {},
     "output_type": "execute_result"
    }
   ],
   "source": [
    "(jets.target.discrete[..., 1]>0)[0]"
   ]
  },
  {
   "cell_type": "code",
   "execution_count": 30,
   "metadata": {},
   "outputs": [
    {
     "data": {
      "text/plain": [
       "tensor([[False, False,  True,  ..., False, False, False],\n",
       "        [False, False, False,  ..., False, False, False],\n",
       "        [False, False,  True,  ..., False, False, False],\n",
       "        ...,\n",
       "        [ True,  True, False,  ..., False, False, False],\n",
       "        [False, False, False,  ..., False, False, False],\n",
       "        [False,  True,  True,  ..., False, False, False]])"
      ]
     },
     "execution_count": 30,
     "metadata": {},
     "output_type": "execute_result"
    }
   ],
   "source": [
    "jets.target.discrete[..., 1] < 0 "
   ]
  },
  {
   "cell_type": "code",
   "execution_count": 10,
   "metadata": {},
   "outputs": [
    {
     "name": "stderr",
     "output_type": "stream",
     "text": [
      "number of training parameters: 503778\n",
      "number of training parameters: 503778\n",
      "start training...\n",
      "start training...\n"
     ]
    },
    {
     "name": "stdout",
     "output_type": "stream",
     "text": [
      "INFO: building dataloaders...\n",
      "INFO: train/val/test split ratios: 0.8/0.2/0.0\n",
      "INFO: train size: 80000, validation size: 20000, testing sizes: 0\n"
     ]
    },
    {
     "data": {
      "application/vnd.jupyter.widget-view+json": {
       "model_id": "efb27bd6c08244baac36f5ef663451d5",
       "version_major": 2,
       "version_minor": 0
      },
      "text/plain": [
       "epochs:   0%|          | 0/500 [00:00<?, ?it/s]"
      ]
     },
     "metadata": {},
     "output_type": "display_data"
    },
    {
     "name": "stdout",
     "output_type": "stream",
     "text": [
      "torch.Size([1024, 128, 8]) torch.Size([1024, 128, 2]) torch.Size([1024, 128, 2]) torch.Size([1024, 1, 1])\n"
     ]
    },
    {
     "ename": "RuntimeError",
     "evalue": "The size of tensor a (2) must match the size of tensor b (8) at non-singleton dimension 2",
     "output_type": "error",
     "traceback": [
      "\u001b[0;31m---------------------------------------------------------------------------\u001b[0m",
      "\u001b[0;31mRuntimeError\u001b[0m                              Traceback (most recent call last)",
      "Cell \u001b[0;32mIn[10], line 6\u001b[0m\n\u001b[1;32m      4\u001b[0m dynamics \u001b[39m=\u001b[39m ConditionalMarkovBridge(config)\n\u001b[1;32m      5\u001b[0m model \u001b[39m=\u001b[39m CMBTrainer(config, dynamics, epic, jets)\n\u001b[0;32m----> 6\u001b[0m model\u001b[39m.\u001b[39;49mtrain()\n",
      "File \u001b[0;32m~/CMB/src/cmb/models/trainers.py:70\u001b[0m, in \u001b[0;36mCMBTrainer.train\u001b[0;34m(self)\u001b[0m\n\u001b[1;32m     67\u001b[0m     \u001b[39mself\u001b[39m\u001b[39m.\u001b[39mmodel \u001b[39m=\u001b[39m DataParallel(\u001b[39mself\u001b[39m\u001b[39m.\u001b[39mmodel)\n\u001b[1;32m     69\u001b[0m \u001b[39mfor\u001b[39;00m epoch \u001b[39min\u001b[39;00m tqdm(\u001b[39mrange\u001b[39m(\u001b[39mself\u001b[39m\u001b[39m.\u001b[39mconfig\u001b[39m.\u001b[39mtrain\u001b[39m.\u001b[39mepochs), desc\u001b[39m=\u001b[39m\u001b[39m\"\u001b[39m\u001b[39mepochs\u001b[39m\u001b[39m\"\u001b[39m):\n\u001b[0;32m---> 70\u001b[0m     train\u001b[39m.\u001b[39;49mupdate(model\u001b[39m=\u001b[39;49m\u001b[39mself\u001b[39;49m\u001b[39m.\u001b[39;49mmodel, loss_fn\u001b[39m=\u001b[39;49m\u001b[39mself\u001b[39;49m\u001b[39m.\u001b[39;49mdynamics\u001b[39m.\u001b[39;49mloss, dataloader\u001b[39m=\u001b[39;49m\u001b[39mself\u001b[39;49m\u001b[39m.\u001b[39;49mdataloader\u001b[39m.\u001b[39;49mtrain, optimizer\u001b[39m=\u001b[39;49moptimizer) \n\u001b[1;32m     71\u001b[0m     valid\u001b[39m.\u001b[39mupdate(model\u001b[39m=\u001b[39m\u001b[39mself\u001b[39m\u001b[39m.\u001b[39mmodel, loss_fn\u001b[39m=\u001b[39m\u001b[39mself\u001b[39m\u001b[39m.\u001b[39mdynamics\u001b[39m.\u001b[39mloss, dataloader\u001b[39m=\u001b[39m\u001b[39mself\u001b[39m\u001b[39m.\u001b[39mdataloader\u001b[39m.\u001b[39mvalid)\n\u001b[1;32m     72\u001b[0m     TERMINATE, IMPROVED \u001b[39m=\u001b[39m valid\u001b[39m.\u001b[39mcheckpoint(min_epochs\u001b[39m=\u001b[39m\u001b[39mself\u001b[39m\u001b[39m.\u001b[39mmin_epochs, \n\u001b[1;32m     73\u001b[0m                                            early_stopping\u001b[39m=\u001b[39m\u001b[39mself\u001b[39m\u001b[39m.\u001b[39mearly_stopping)\n",
      "File \u001b[0;32m~/CMB/src/cmb/models/utils.py:30\u001b[0m, in \u001b[0;36mTrain_Step.update\u001b[0;34m(self, model, loss_fn, dataloader, optimizer)\u001b[0m\n\u001b[1;32m     28\u001b[0m \u001b[39mfor\u001b[39;00m batch \u001b[39min\u001b[39;00m dataloader:\n\u001b[1;32m     29\u001b[0m     optimizer\u001b[39m.\u001b[39mzero_grad()\n\u001b[0;32m---> 30\u001b[0m     loss_current \u001b[39m=\u001b[39m loss_fn(model, batch)\n\u001b[1;32m     31\u001b[0m     loss_current\u001b[39m.\u001b[39mbackward()\n\u001b[1;32m     32\u001b[0m     optimizer\u001b[39m.\u001b[39mstep()  \n",
      "Cell \u001b[0;32mIn[9], line 71\u001b[0m, in \u001b[0;36mConditionalMarkovBridge.loss\u001b[0;34m(self, model, batch)\u001b[0m\n\u001b[1;32m     69\u001b[0m \u001b[39mself\u001b[39m\u001b[39m.\u001b[39msample_coupling(batch)\n\u001b[1;32m     70\u001b[0m \u001b[39mself\u001b[39m\u001b[39m.\u001b[39msample_time() \n\u001b[0;32m---> 71\u001b[0m \u001b[39mself\u001b[39;49m\u001b[39m.\u001b[39;49msample_bridge()\n\u001b[1;32m     72\u001b[0m \u001b[39mself\u001b[39m\u001b[39m.\u001b[39mget_drift()\n\u001b[1;32m     74\u001b[0m vt, logits \u001b[39m=\u001b[39m model(t\u001b[39m=\u001b[39m\u001b[39mself\u001b[39m\u001b[39m.\u001b[39mt, \n\u001b[1;32m     75\u001b[0m                    x\u001b[39m=\u001b[39m\u001b[39mself\u001b[39m\u001b[39m.\u001b[39mbridge_continuous, \n\u001b[1;32m     76\u001b[0m                    k\u001b[39m=\u001b[39m\u001b[39mself\u001b[39m\u001b[39m.\u001b[39mbridge_discrete, \n\u001b[0;32m   (...)\u001b[0m\n\u001b[1;32m     79\u001b[0m                    mask\u001b[39m=\u001b[39m\u001b[39mself\u001b[39m\u001b[39m.\u001b[39mmask,                    \n\u001b[1;32m     80\u001b[0m                    output_rates\u001b[39m=\u001b[39m\u001b[39mFalse\u001b[39;00m)\n",
      "Cell \u001b[0;32mIn[9], line 55\u001b[0m, in \u001b[0;36mConditionalMarkovBridge.sample_bridge\u001b[0;34m(self)\u001b[0m\n\u001b[1;32m     52\u001b[0m k \u001b[39m=\u001b[39m k\u001b[39m.\u001b[39mto(\u001b[39mself\u001b[39m\u001b[39m.\u001b[39mk0\u001b[39m.\u001b[39mdevice)\n\u001b[1;32m     54\u001b[0m \u001b[39mprint\u001b[39m(k\u001b[39m.\u001b[39mshape, \u001b[39mself\u001b[39m\u001b[39m.\u001b[39mk1\u001b[39m.\u001b[39mshape, \u001b[39mself\u001b[39m\u001b[39m.\u001b[39mk0\u001b[39m.\u001b[39mshape, \u001b[39mself\u001b[39m\u001b[39m.\u001b[39mt\u001b[39m.\u001b[39mshape)\n\u001b[0;32m---> 55\u001b[0m transition_probs \u001b[39m=\u001b[39m \u001b[39mself\u001b[39;49m\u001b[39m.\u001b[39;49mref_process\u001b[39m.\u001b[39;49mbridge_probability(k, \u001b[39mself\u001b[39;49m\u001b[39m.\u001b[39;49mk1, \u001b[39mself\u001b[39;49m\u001b[39m.\u001b[39;49mk0, \u001b[39mself\u001b[39;49m\u001b[39m.\u001b[39;49mt\u001b[39m.\u001b[39;49msqueeze())\n\u001b[1;32m     56\u001b[0m \u001b[39mself\u001b[39m\u001b[39m.\u001b[39mbridge_discrete \u001b[39m=\u001b[39m Categorical(transition_probs)\u001b[39m.\u001b[39msample()\u001b[39m.\u001b[39mto(\u001b[39mself\u001b[39m\u001b[39m.\u001b[39mk1\u001b[39m.\u001b[39mdevice)\n",
      "File \u001b[0;32m~/CMB/src/cmb/dynamics/processes.py:41\u001b[0m, in \u001b[0;36mTelegraphProcess.bridge_probability\u001b[0;34m(self, k, k1, k0, t)\u001b[0m\n\u001b[1;32m     35\u001b[0m \u001b[39mdef\u001b[39;00m \u001b[39mbridge_probability\u001b[39m(\u001b[39mself\u001b[39m, k, k1, k0, t):\n\u001b[1;32m     36\u001b[0m \u001b[39m    \u001b[39m\u001b[39m\"\"\"\u001b[39;00m\n\u001b[1;32m     37\u001b[0m \u001b[39m    \\begin{equation}\u001b[39;00m\n\u001b[1;32m     38\u001b[0m \u001b[39m    P(x_t=x|x_0,x_1) = \\frac{p(x_1|x_t=x) p(x_t = x|x_0)}{p(x_1|x_0)}\u001b[39;00m\n\u001b[1;32m     39\u001b[0m \u001b[39m    \\end{equation}\u001b[39;00m\n\u001b[1;32m     40\u001b[0m \u001b[39m    \"\"\"\u001b[39;00m\n\u001b[0;32m---> 41\u001b[0m     p_k_to_k1 \u001b[39m=\u001b[39m \u001b[39mself\u001b[39;49m\u001b[39m.\u001b[39;49mconditional_probability(k1, k, t\u001b[39m=\u001b[39;49m\u001b[39m1.\u001b[39;49m, t0\u001b[39m=\u001b[39;49mt)\n\u001b[1;32m     42\u001b[0m     p_k0_to_k \u001b[39m=\u001b[39m \u001b[39mself\u001b[39m\u001b[39m.\u001b[39mconditional_probability(k, k0, t\u001b[39m=\u001b[39mt, t0\u001b[39m=\u001b[39m\u001b[39m0.\u001b[39m)\n\u001b[1;32m     43\u001b[0m     p_k0_to_k1 \u001b[39m=\u001b[39m \u001b[39mself\u001b[39m\u001b[39m.\u001b[39mconditional_probability(k1, k0, t\u001b[39m=\u001b[39m\u001b[39m1.\u001b[39m, t0\u001b[39m=\u001b[39m\u001b[39m0.\u001b[39m)\n",
      "File \u001b[0;32m~/CMB/src/cmb/dynamics/processes.py:31\u001b[0m, in \u001b[0;36mTelegraphProcess.conditional_probability\u001b[0;34m(self, k, k0, t, t0)\u001b[0m\n\u001b[1;32m     29\u001b[0m w_t \u001b[39m=\u001b[39m torch\u001b[39m.\u001b[39mexp(\u001b[39m-\u001b[39m\u001b[39mself\u001b[39m\u001b[39m.\u001b[39mvocab_size \u001b[39m*\u001b[39m beta_t)\n\u001b[1;32m     30\u001b[0m k, k0 \u001b[39m=\u001b[39m right_shape(k), right_shape(k0)\n\u001b[0;32m---> 31\u001b[0m kronecker \u001b[39m=\u001b[39m (k \u001b[39m==\u001b[39;49m k0)\u001b[39m.\u001b[39mfloat()\n\u001b[1;32m     32\u001b[0m probability \u001b[39m=\u001b[39m \u001b[39m1.\u001b[39m \u001b[39m/\u001b[39m \u001b[39mself\u001b[39m\u001b[39m.\u001b[39mvocab_size \u001b[39m+\u001b[39m w_t[:, \u001b[39mNone\u001b[39;00m, \u001b[39mNone\u001b[39;00m] \u001b[39m*\u001b[39m ((\u001b[39m-\u001b[39m\u001b[39m1.\u001b[39m \u001b[39m/\u001b[39m \u001b[39mself\u001b[39m\u001b[39m.\u001b[39mvocab_size) \u001b[39m+\u001b[39m kronecker)\n\u001b[1;32m     33\u001b[0m \u001b[39mreturn\u001b[39;00m probability\n",
      "\u001b[0;31mRuntimeError\u001b[0m: The size of tensor a (2) must match the size of tensor b (8) at non-singleton dimension 2"
     ]
    }
   ],
   "source": [
    "from cmb.models.trainers import CMBTrainer\n",
    "# from cmb.dynamics.cmb import ConditionalMarkovBridge\n",
    "epic = HybridEPiC(config)\n",
    "dynamics = ConditionalMarkovBridge(config)\n",
    "model = CMBTrainer(config, dynamics, epic, jets)\n",
    "model.train()\n"
   ]
  },
  {
   "cell_type": "code",
   "execution_count": 4,
   "metadata": {},
   "outputs": [],
   "source": [
    "from cmb.models.pipelines import Pipeline\n",
    "num_gen_jets = 3000\n",
    "pipeline = Pipeline(trained_model=generative_model, config=config)\n",
    "test = CouplingData(config.data)\n",
    "pipeline.generate_samples(source_continuous=test.source.continuous[:num_gen_jets], mask=test.source.mask[:num_gen_jets])"
   ]
  },
  {
   "cell_type": "code",
   "execution_count": 5,
   "metadata": {},
   "outputs": [],
   "source": [
    "from cmb.data.jetclass import ParticleClouds\n",
    "\n",
    "generated = torch.cat([pipeline.paths[-1], test.source.mask[:num_gen_jets]], dim=-1)\n",
    "jets_generated = ParticleClouds(generated) "
   ]
  },
  {
   "cell_type": "markdown",
   "metadata": {},
   "source": [
    "varying number of constituents (max. 128)"
   ]
  },
  {
   "cell_type": "code",
   "execution_count": 6,
   "metadata": {},
   "outputs": [
    {
     "data": {
      "image/png": "[encoded data removed]",
      "text/plain": [
       "<Figure size 1200x300 with 3 Axes>"
      ]
     },
     "metadata": {},
     "output_type": "display_data"
    }
   ],
   "source": [
    "import seaborn as sns\n",
    "import matplotlib.pyplot as plt\n",
    "import numpy as np\n",
    "\n",
    "fig, ax = plt.subplots(1, 3, figsize=(12,3))\n",
    "\n",
    "jets_generated.histplot('pt_rel', binrange=(-.1, 1), binwidth=0.005, ax=ax[0], color='r', log_scale=(False, True), fill=False, stat='density',lw=0.75, label='generated')\n",
    "jets.target.histplot('pt_rel', binrange=(-.1, 1), binwidth=0.005, ax=ax[0], log_scale=(False, True),  color='k', stat='density', alpha=0.3, lw=0.3, label='target')\n",
    "\n",
    "jets_generated.histplot('eta_rel', binrange=(-1, 1), binwidth=0.01, ax=ax[1], log_scale=(False, True), color='r', fill=False, stat='density', lw=0.75, label='generated')\n",
    "jets.target.histplot('eta_rel', binrange=(-1, 1), binwidth=0.01, ax=ax[1],   log_scale=(False, True), color='k', stat='density', alpha=0.3, lw=0.3, label='target')\n",
    "\n",
    "jets_generated.histplot('phi_rel', binrange=(-1, 1), binwidth=0.01, ax=ax[2], log_scale=(False, True), color='r', fill=False, stat='density',  lw=0.75, label='generated')\n",
    "jets.target.histplot('phi_rel',binrange=(-1, 1), binwidth=0.01, ax=ax[2],  log_scale=(False, True), color='k', stat='density', alpha=0.3, lw=0.3, label='target')\n",
    "\n",
    "ax[2].legend()\n",
    "plt.tight_layout()\n",
    "plt.show()"
   ]
  },
  {
   "cell_type": "code",
   "execution_count": 50,
   "metadata": {},
   "outputs": [
    {
     "data": {
      "image/png": "[encoded data removed]",
      "text/plain": [
       "<Figure size 1200x300 with 3 Axes>"
      ]
     },
     "metadata": {},
     "output_type": "display_data"
    }
   ],
   "source": [
    "fig, ax = plt.subplots(1, 3, figsize=(12,3))\n",
    "\n",
    "jets_generated.histplot('pt_rel', idx=10, binrange=(-.1, .1), binwidth=0.001, ax=ax[0], color='r', log_scale=(False, True), fill=False, stat='density',lw=0.75, label='generated')\n",
    "jets.target.histplot('pt_rel', idx=10, binrange=(-.1, .1), binwidth=0.001, ax=ax[0], log_scale=(False, True),  color='k', stat='density', alpha=0.3, lw=0.3, label='target')\n",
    "\n",
    "jets_generated.histplot('eta_rel', idx=10, binrange=(-1, 1), binwidth=0.02, ax=ax[1], log_scale=(False, True), color='r', fill=False, stat='density', lw=0.75, label='generated')\n",
    "jets.target.histplot('eta_rel', idx=10,  binrange=(-1, 1), binwidth=0.02, ax=ax[1],  log_scale=(False, True),  color='k', stat='density', alpha=0.3, lw=0.3, label='target')\n",
    "\n",
    "jets_generated.histplot('phi_rel', idx=10, binrange=(-1, 1), binwidth=0.02, ax=ax[2],log_scale=(False, True),  color='r', fill=False, stat='density',  lw=0.75, label='generated')\n",
    "jets.target.histplot('phi_rel', idx=10, binrange=(-1, 1), binwidth=0.02, ax=ax[2],  log_scale=(False, True), color='k', stat='density', alpha=0.3, lw=0.3, label='target')\n",
    "\n",
    "ax[2].legend()\n",
    "plt.tight_layout()\n",
    "plt.show()"
   ]
  },
  {
   "cell_type": "code",
   "execution_count": 1,
   "metadata": {},
   "outputs": [
    {
     "ename": "NameError",
     "evalue": "name 'plt' is not defined",
     "output_type": "error",
     "traceback": [
      "\u001b[0;31m---------------------------------------------------------------------------\u001b[0m",
      "\u001b[0;31mNameError\u001b[0m                                 Traceback (most recent call last)",
      "Cell \u001b[0;32mIn[1], line 2\u001b[0m\n\u001b[1;32m      1\u001b[0m n\u001b[39m=\u001b[39m\u001b[39m102\u001b[39m\n\u001b[0;32m----> 2\u001b[0m fig, ax \u001b[39m=\u001b[39m plt\u001b[39m.\u001b[39msubplots(\u001b[39m1\u001b[39m,\u001b[39m3\u001b[39m, figsize\u001b[39m=\u001b[39m(\u001b[39m6\u001b[39m,\u001b[39m2\u001b[39m))\n\u001b[1;32m      3\u001b[0m jets\u001b[39m.\u001b[39msource\u001b[39m.\u001b[39mdisplay_cloud(idx\u001b[39m=\u001b[39mn, scale_marker\u001b[39m=\u001b[39m\u001b[39m100\u001b[39m, ax\u001b[39m=\u001b[39max[\u001b[39m0\u001b[39m], color\u001b[39m=\u001b[39m\u001b[39m'\u001b[39m\u001b[39mdarkblue\u001b[39m\u001b[39m'\u001b[39m)\n\u001b[1;32m      4\u001b[0m jets_generated\u001b[39m.\u001b[39mdisplay_cloud(idx\u001b[39m=\u001b[39mn, scale_marker\u001b[39m=\u001b[39m\u001b[39m100\u001b[39m, ax\u001b[39m=\u001b[39max[\u001b[39m1\u001b[39m], color\u001b[39m=\u001b[39m\u001b[39m'\u001b[39m\u001b[39mgold\u001b[39m\u001b[39m'\u001b[39m)\n",
      "\u001b[0;31mNameError\u001b[0m: name 'plt' is not defined"
     ]
    }
   ],
   "source": [
    "n=102\n",
    "fig, ax = plt.subplots(1,3, figsize=(6,2))\n",
    "jets.source.display_cloud(idx=n, scale_marker=100, ax=ax[0], color='darkblue')\n",
    "jets_generated.display_cloud(idx=n, scale_marker=100, ax=ax[1], color='gold')\n",
    "jets.target.display_cloud(idx=n, scale_marker=100, ax=ax[2], color='darkred')\n",
    "plt.tight_layout()\n",
    "plt.show()"
   ]
  },
  {
   "cell_type": "code",
   "execution_count": null,
   "metadata": {},
   "outputs": [],
   "source": []
  }
 ],
 "metadata": {
  "kernelspec": {
   "display_name": "flow_match_env",
   "language": "python",
   "name": "python3"
  },
  "language_info": {
   "codemirror_mode": {
    "name": "ipython",
    "version": 3
   },
   "file_extension": ".py",
   "mimetype": "text/x-python",
   "name": "python",
   "nbconvert_exporter": "python",
   "pygments_lexer": "ipython3",
   "version": "3.9.16"
  },
  "orig_nbformat": 4
 },
 "nbformat": 4,
 "nbformat_minor": 2
}
