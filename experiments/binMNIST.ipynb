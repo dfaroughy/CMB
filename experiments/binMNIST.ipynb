{
 "cells": [
  {
   "cell_type": "code",
   "execution_count": 2,
   "metadata": {},
   "outputs": [],
   "source": [
    "import torch\n",
    "import numpy as np\n",
    "from dataclasses import dataclass, field\n",
    "from typing import List, Tuple\n",
    "\n",
    "@dataclass\n",
    "class Configs:\n",
    "    #...general params:\n",
    "    WORKDIR : str = './'   \n",
    "    DEVICE : str = 'cuda:0'\n",
    "    MULTI_GPU : bool = False\n",
    "\n",
    "    #...data params:\n",
    "    DATA : str = None\n",
    "    DATA_TARGET : str = 'mnist'\n",
    "    DATA_SOURCE : str = 'noise'\n",
    "    DIM_INPUT : int = None\n",
    "    DIM_CONTEXT : int = 0\n",
    "    VOCAB_SIZE : int = 2\n",
    "    INPUT_SHAPE : Tuple[float] = field(default_factory = lambda : (1, 28, 28))\n",
    "    FLAT_IMAGE : bool = True\n",
    "\n",
    "    # #...model params:\n",
    "    MODEL : str = 'StateClassifier'\n",
    "    DIM_HIDDEN : int = 128\n",
    "    DIM_TIME_EMB : int = 16\n",
    "    DIM_STATE_EMB : int = 8\n",
    "    NUM_LAYERS : int = 2\n",
    "    DROPOUT : float = 0.\n",
    "    ACTIVATION : str = 'ReLU'\n",
    "    TIME_EMBEDDING_TYPE : str = 'sinusoidal'\n",
    "\n",
    "    #...training params:\n",
    "    BATCH_SIZE : int = 128\n",
    "    DATA_SPLIT_FRACS : List[float] = field(default_factory = lambda : [0.83334, 0.16667, 0.0])  # train / val / test \n",
    "    EPOCHS: int = 500\n",
    "    EARLY_STOPPING : int = None\n",
    "    MIN_EPOCHS : int = None \n",
    "    PRINT_EPOCHS : int = None   \n",
    "    NUM_WORKERS : int = 0\n",
    "    PIN_MEMORY: bool = False\n",
    "\n",
    "    #...cjb params:\n",
    "    DYNAMICS : str = 'ConditionalJumpBridge'\n",
    "    GAMMA: float = 0.1\n",
    "\n",
    "    #...optimization & scheduler params:\n",
    "    OPTIMIZER: str = 'Adam'\n",
    "    LR : float = 2e-4\n",
    "    WEIGHT_DECAY : float = 0.0\n",
    "    OPTIMIZER_BETAS : List[float] = field(default_factory = lambda : [0.9, 0.999])\n",
    "    OPTIMIZER_EPS : float = 1e-8\n",
    "    OPTIMIZER_AMSGRAD : bool = False\n",
    "    GRADIENT_CLIP : float = None\n",
    "    SCHEDULER: str = None\n",
    "    SCHEDULER_T_MAX: int = None\n",
    "    SCHEDULER_ETA_MIN: float = None\n",
    "    SCHEDULER_GAMMA: float = None\n",
    "    SCHEDULER_STEP_SIZE: int = None\n",
    "\n",
    "    #...generation pipeline params:\n",
    "    SAMPLER : str = 'TauLeaping'\n",
    "    NUM_TIMESTEPS : int = 100\n",
    "    TIME_EPS : float = 1e-3\n",
    "\n",
    "    def __post_init__(self):\n",
    "        self.DATA = self.DATA_SOURCE + '_to_' + self.DATA_TARGET\n",
    "        self.DIM_INPUT = np.prod(self.INPUT_SHAPE)\n",
    "        if self.MULTI_GPU: self.DEVICE = 'cuda:0'\n"
   ]
  },
  {
   "cell_type": "markdown",
   "metadata": {},
   "source": [
    "# Data"
   ]
  },
  {
   "cell_type": "code",
   "execution_count": 4,
   "metadata": {},
   "outputs": [
    {
     "name": "stdout",
     "output_type": "stream",
     "text": [
      "INFO: building dataloaders...\n",
      "INFO: train/val/test split ratios: 0.83334/0.16667/0.0\n",
      "INFO: train size: 58333, validation size: 11666, testing sizes: 0\n"
     ]
    },
    {
     "data": {
      "image/png": "[encoded data removed]",
      "text/plain": [
       "<PIL.Image.Image image mode=L size=28x56>"
      ]
     },
     "execution_count": 4,
     "metadata": {},
     "output_type": "execute_result"
    }
   ],
   "source": [
    "from torchvision.transforms import ToPILImage\n",
    "from cmb.data.binary_mnist import MNISTDataClass\n",
    "from cmb.data.utils import DefineDataloader\n",
    "\n",
    "conf = Configs()\n",
    "mnist = MNISTDataClass(conf)\n",
    "dataloader = DefineDataloader(mnist)\n",
    "transform = ToPILImage()\n",
    "\n",
    "for batch in dataloader.train:\n",
    "    pair = torch.cat([batch.source[0].view(1, 28,28), batch.target[0].view( 1, 28,28)], dim=1)\n",
    "    img = transform(pair)\n",
    "    break\n",
    "\n",
    "img"
   ]
  },
  {
   "cell_type": "markdown",
   "metadata": {},
   "source": [
    "# Train model"
   ]
  },
  {
   "cell_type": "code",
   "execution_count": 3,
   "metadata": {},
   "outputs": [
    {
     "name": "stderr",
     "output_type": "stream",
     "text": [
      "2024-08-07 17:49:04.480893: I tensorflow/tsl/cuda/cudart_stub.cc:28] Could not find cuda drivers on your machine, GPU will not be used.\n",
      "2024-08-07 17:49:04.525344: I tensorflow/tsl/cuda/cudart_stub.cc:28] Could not find cuda drivers on your machine, GPU will not be used.\n",
      "2024-08-07 17:49:04.526111: I tensorflow/core/platform/cpu_feature_guard.cc:182] This TensorFlow binary is optimized to use available CPU instructions in performance-critical operations.\n",
      "To enable the following instructions: AVX2 AVX512F FMA, in other operations, rebuild TensorFlow with the appropriate compiler flags.\n",
      "2024-08-07 17:49:05.247646: W tensorflow/compiler/tf2tensorrt/utils/py_utils.cc:38] TF-TRT Warning: Could not find TensorRT\n",
      "number of training parameters: 305056\n",
      "start training...\n"
     ]
    },
    {
     "name": "stdout",
     "output_type": "stream",
     "text": [
      "INFO: building dataloaders...\n",
      "INFO: train/val/test split ratios: 0.83334/0.16667/0.0\n",
      "INFO: train size: 58333, validation size: 11666, testing sizes: 0\n"
     ]
    },
    {
     "data": {
      "application/vnd.jupyter.widget-view+json": {
       "model_id": "9d9e8e5c035e404cb204f504bdd91704",
       "version_major": 2,
       "version_minor": 0
      },
      "text/plain": [
       "epochs:   0%|          | 0/500 [00:00<?, ?it/s]"
      ]
     },
     "metadata": {},
     "output_type": "display_data"
    }
   ],
   "source": [
    "# from cmb.dynamics.cjb import ConditionalJumpBridge\n",
    "# from cmb.models.architectures.state_classifier import StateClassifier \n",
    "# from cmb.models.trainers import CFMTrainer\n",
    "\n",
    "# conf = Configs()\n",
    "# mnist = MNISTDataClass(conf)\n",
    "# dynamics = ConditionalJumpBridge(conf)\n",
    "# classifier = StateClassifier(conf)\n",
    "# generative_model = CFMTrainer(dynamics, classifier, mnist)\n",
    "# generative_model.train()"
   ]
  },
  {
   "cell_type": "markdown",
   "metadata": {},
   "source": [
    "# Generate samples"
   ]
  },
  {
   "cell_type": "code",
   "execution_count": 8,
   "metadata": {},
   "outputs": [],
   "source": [
    "import torch\n",
    "from dataclasses import dataclass\n",
    "from torch.nn.functional import softmax\n",
    "\n",
    "class TransitionRateModel(torch.nn.Module):\n",
    "    def __init__(self, model, config):\n",
    "        super().__init__()\n",
    "        self.model = model # model should output logits\n",
    "        self.vocab_size = config.VOCAB_SIZE\n",
    "        self.config = config\n",
    "        self.gamma = config.GAMMA\n",
    "        self.time_epsilon = config.TIME_EPS\n",
    "\n",
    "    def forward(self, t, s, context=None):\n",
    "        t = t.squeeze()\n",
    "        if len(s.shape) != 2:\n",
    "            s = s.reshape(s.size(0),-1)\n",
    "        logits = self.model(t, s, context)\n",
    "        t1 = 1. - self.time_epsilon\n",
    "        beta_integral = (t1 - t) * self.gamma\n",
    "        wt = torch.exp(-self.vocab_size * beta_integral)\n",
    "        A, B, C = 1. , (wt * self.vocab_size)/(1. - wt) , wt\n",
    "        qx = softmax(logits, dim=2)\n",
    "        qy = torch.gather(qx, 2, s.long().unsqueeze(2))\n",
    "        rate = A + B[:, None, None] * qx + C[:, None, None] * qy\n",
    "        return rate\n",
    "\n",
    "class TauLeapingSolver:\n",
    "    def __init__(self, transition_rate, device):\n",
    "        self.transition_rate = transition_rate\n",
    "        self.device = device\n",
    "\n",
    "    def simulate(self, x, t_span):\n",
    "        time_steps = len(t_span)\n",
    "        tau = (t_span[-1] - t_span[0]) / (time_steps - 1)\n",
    "        trajectory = [x]\n",
    "\n",
    "        for i in range(1, time_steps):\n",
    "            t = t_span[i-1]\n",
    "    \n",
    "            current_state = x.clone()\n",
    "            rates = self.transition_rate(t, current_state).to(self.device)\n",
    "            voc_size = rates.size(-1) \n",
    "\n",
    "            jumps = torch.poisson(rates * tau).to(self.device)  \n",
    "            net_jumps = torch.argmax(jumps, dim=-1).type_as(current_state)\n",
    "            x = torch.clamp(net_jumps, min=0, max=voc_size-1)            \n",
    "            trajectory.append(x.clone())\n",
    "\n",
    "        return torch.stack(trajectory)\n",
    "\n",
    "class ContextWrapper(torch.nn.Module):\n",
    "    \"\"\" Wraps model to torchdyn compatible format.\n",
    "    \"\"\"\n",
    "    def __init__(self, net, context=None):\n",
    "        super().__init__()\n",
    "        self.nn = net\n",
    "        self.context = context\n",
    "\n",
    "    def forward(self, t, x):\n",
    "        t = t.repeat(x.shape[0])\n",
    "        t = self.reshape_time_like(t, x)\n",
    "        return self.nn(t=t, s=x, context=self.context)\n",
    "\n",
    "    def reshape_time_like(self, t, x):\n",
    "        if isinstance(t, (float, int)): return t\n",
    "        else: return t.reshape(-1, *([1] * (x.dim() - 1)))\n",
    "\n",
    "\n",
    "class CJBPipeline:\n",
    "    \n",
    "    def __init__(self, \n",
    "                 trained_model, \n",
    "                 config: dataclass=None,\n",
    "                 best_epoch_model: bool=True,\n",
    "                 ):\n",
    "\n",
    "        self.config = config\n",
    "        self.model = trained_model.best_epoch_model if best_epoch_model else trained_model.last_epoch_model\n",
    "        self.num_sampling_steps = config.NUM_TIMESTEPS\n",
    "        self.sampler = config.SAMPLER\n",
    "        self.device = config.DEVICE\n",
    "        self.vocab_size = config.VOCAB_SIZE\n",
    "        self.has_context = True if config.DIM_CONTEXT > 0 else False\n",
    "        self.time_steps = torch.linspace(0.0, 1.0 - config.TIME_EPS, self.num_sampling_steps, device=self.device)\n",
    "\n",
    "    @torch.no_grad()\n",
    "    def generate_samples(self, input_source, context=None):\n",
    "        self.source = input_source.to(self.device) \n",
    "        self.context = context.to(self.device) if self.has_context else None\n",
    "        self.jumps = self.MarkovSolver() \n",
    "\n",
    "    @torch.no_grad()\n",
    "    def MarkovSolver(self):\n",
    "        rate = TransitionRateModel(self.model, self.config)\n",
    "        rate = ContextWrapper(rate, context=self.context if self.context is not None else None)\n",
    "        tauleap = TauLeapingSolver(transition_rate=rate, device=self.device)        \n",
    "        return tauleap.simulate(x=self.source, t_span=self.time_steps).detach().cpu()\n",
    "\n"
   ]
  },
  {
   "cell_type": "code",
   "execution_count": 9,
   "metadata": {},
   "outputs": [
    {
     "name": "stdout",
     "output_type": "stream",
     "text": [
      "INFO: building dataloaders...\n",
      "INFO: train/val/test split ratios: 0.83334/0.16667/0.0\n",
      "INFO: train size: 58333, validation size: 11666, testing sizes: 0\n"
     ]
    }
   ],
   "source": [
    "from cmb.dynamics.cjb import ConditionalJumpBridge\n",
    "from cmb.models.architectures.state_classifier import StateClassifier \n",
    "from cmb.models.trainers import CFMTrainer\n",
    "from cmb.data.binary_mnist import MNISTDataClass\n",
    "\n",
    "conf = Configs()\n",
    "mnist = MNISTDataClass(conf)\n",
    "dynamics = ConditionalJumpBridge(conf)\n",
    "classifier = StateClassifier(conf)\n",
    "generative_model = CFMTrainer(dynamics, classifier, mnist)\n",
    "generative_model.load(model='best')"
   ]
  },
  {
   "cell_type": "code",
   "execution_count": 27,
   "metadata": {},
   "outputs": [
    {
     "name": "stdout",
     "output_type": "stream",
     "text": [
      "number of timesteps: 200\n"
     ]
    }
   ],
   "source": [
    "\n",
    "conf.GAMMA = 0.005\n",
    "conf.NUM_TIMESTEPS = N = int(1. / conf.GAMMA)\n",
    "conf.TIME_EPS = 0.\n",
    "\n",
    "\n",
    "pipeline = CJBPipeline(trained_model=generative_model, config=conf)\n",
    "input_source = torch.randint(0, 2, (128, 784))\n",
    "\n",
    "pipeline.generate_samples(input_source)\n",
    "sample = pipeline.jumps.view(N, 128, 1, 28, 28).float()\n",
    "\n",
    "print('number of timesteps: {}'.format(N))"
   ]
  },
  {
   "cell_type": "code",
   "execution_count": 28,
   "metadata": {},
   "outputs": [
    {
     "data": {
      "image/png": "[encoded data removed]",
      "text/plain": [
       "<PIL.Image.Image image mode=L size=308x560>"
      ]
     },
     "execution_count": 28,
     "metadata": {},
     "output_type": "execute_result"
    }
   ],
   "source": [
    "import random\n",
    "from torchvision.transforms import ToPILImage\n",
    "\n",
    "\n",
    "transform = ToPILImage()\n",
    "\n",
    "generated_sample = []\n",
    "\n",
    "for idx in random.sample(range(0, 128), 20):\n",
    "    img = []\n",
    "    for time_step in range(0, N, N//10):\n",
    "        img.append(sample[time_step, idx,:,:,:]) \n",
    "    img.append(sample[-1, idx,:,:,:]) \n",
    "    img = torch.cat(img, dim=-1)\n",
    "    generated_sample.append(img)\n",
    "\n",
    "generated_sample = torch.cat(generated_sample, dim=1)\n",
    "transform(generated_sample)\n"
   ]
  },
  {
   "cell_type": "code",
   "execution_count": null,
   "metadata": {},
   "outputs": [],
   "source": []
  }
 ],
 "metadata": {
  "kernelspec": {
   "display_name": "flow_match_env",
   "language": "python",
   "name": "python3"
  },
  "language_info": {
   "codemirror_mode": {
    "name": "ipython",
    "version": 3
   },
   "file_extension": ".py",
   "mimetype": "text/x-python",
   "name": "python",
   "nbconvert_exporter": "python",
   "pygments_lexer": "ipython3",
   "version": "3.9.16"
  },
  "orig_nbformat": 4
 },
 "nbformat": 4,
 "nbformat_minor": 2
}
