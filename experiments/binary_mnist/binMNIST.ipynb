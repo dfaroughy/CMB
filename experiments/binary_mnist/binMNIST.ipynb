{
 "cells": [
  {
   "cell_type": "code",
   "execution_count": 1,
   "metadata": {},
   "outputs": [],
   "source": [
    "import torch\n",
    "import numpy as np\n",
    "from dataclasses import dataclass, field\n",
    "from typing import List, Tuple\n",
    "\n",
    "@dataclass\n",
    "class Configs:\n",
    "    #...general params:\n",
    "    workdir : str = '../../results/mnist_test/'   \n",
    "    device : str = 'cuda:0'\n",
    "    multi_gpu : bool = False\n",
    "\n",
    "\n",
    "    #...data params:\n",
    "    target : str = 'digits'\n",
    "    source : str = 'noise'\n",
    "    dim_discrete : int = 1\n",
    "    dim_context : int = 0\n",
    "    vocab_size : int = 2\n",
    "    input_shape : Tuple[float] = field(default_factory = lambda : (1, 28, 28))\n",
    "    flat_image : bool = True\n",
    "\n",
    "#...model params:\n",
    "    model : str = 'mlp'\n",
    "    num_layers : int = 4\n",
    "    dim_hidden : int = 64 \n",
    "    dim_time_emb : int = 16\n",
    "    dim_discrete_emb : int = 16\n",
    "    time_embedding  : str = 'kolmogorov-arnold'     \n",
    "    dropout : float = 0.0\n",
    "    activation : str = 'SELU'\n",
    "    use_batch_norm : bool = False\n",
    "    \n",
    "    #...training params:\n",
    "    batch_size : int = 128\n",
    "    data_split_frac : List[float] = field(default_factory = lambda : [0.83334, 0.16667, 0.0])  # train / val / test \n",
    "    epochs: int = 10\n",
    "    early_stopping : int = None\n",
    "    min_epochs : int = None \n",
    "    print_epochs : int = None   \n",
    "    num_workers : int = 0\n",
    "    pin_memory: bool = False\n",
    "\n",
    "    #...cjb params:\n",
    "    dynamics : str = 'CJB'\n",
    "    gamma: float = 0.1\n",
    "\n",
    "    #...optimization & scheduler params:\n",
    "    optimizer: str = 'Adam'\n",
    "    lr : float = 2e-4\n",
    "    weight_decay : float = 0.0\n",
    "    optimizer_betas : List[float] = field(default_factory = lambda : [0.9, 0.999])\n",
    "    optimizer_eps : float = 1e-8\n",
    "    optimizer_amsgrad : bool = False\n",
    "    gradient_clip : float = None\n",
    "    scheduler: str = None\n",
    "    scheduler_t_max: int = None\n",
    "    scheduler_eta_min: float = None\n",
    "    scheduler_gamma: float = None\n",
    "    scheduler_step_size: int = None\n",
    "\n",
    "    #...generation pipeline params:\n",
    "    sampler : str = 'TauLeaping'\n",
    "    num_timesteps : int = 100\n",
    "    time_eps : float = 1e-3\n",
    "\n",
    "\n",
    "    def __post_init__(self):\n",
    "\n",
    "        self.dim_discrete = np.prod(self.input_shape)\n",
    "        self.data = self.source + '_to_' + self.target\n",
    "\n",
    "\n"
   ]
  },
  {
   "cell_type": "markdown",
   "metadata": {},
   "source": [
    "# Data"
   ]
  },
  {
   "cell_type": "code",
   "execution_count": 2,
   "metadata": {},
   "outputs": [
    {
     "data": {
      "image/png": "[encoded data removed]",
      "text/plain": [
       "<PIL.Image.Image image mode=L size=28x56>"
      ]
     },
     "execution_count": 2,
     "metadata": {},
     "output_type": "execute_result"
    }
   ],
   "source": [
    "from torchvision.transforms import ToPILImage\n",
    "from cmb.data.binary_mnist import CouplingData\n",
    "\n",
    "config = Configs()\n",
    "images = CouplingData(config)\n",
    "transform = ToPILImage()\n",
    "pair = torch.cat([images.source.discrete[0].view(1, 28,28), images.target.discrete[0].view( 1, 28,28)], dim=1)\n",
    "transform(pair)\n"
   ]
  },
  {
   "cell_type": "markdown",
   "metadata": {},
   "source": [
    "# Train model"
   ]
  },
  {
   "cell_type": "code",
   "execution_count": 3,
   "metadata": {},
   "outputs": [
    {
     "name": "stderr",
     "output_type": "stream",
     "text": [
      "2024-09-13 16:37:27.984711: I tensorflow/tsl/cuda/cudart_stub.cc:28] Could not find cuda drivers on your machine, GPU will not be used.\n",
      "2024-09-13 16:37:28.049164: I tensorflow/tsl/cuda/cudart_stub.cc:28] Could not find cuda drivers on your machine, GPU will not be used.\n",
      "2024-09-13 16:37:28.050065: I tensorflow/core/platform/cpu_feature_guard.cc:182] This TensorFlow binary is optimized to use available CPU instructions in performance-critical operations.\n",
      "To enable the following instructions: AVX2 AVX512F FMA, in other operations, rebuild TensorFlow with the appropriate compiler flags.\n",
      "2024-09-13 16:37:29.074258: W tensorflow/compiler/tf2tensorrt/utils/py_utils.cc:38] TF-TRT Warning: Could not find TensorRT\n",
      "number of training parameters: 2119584\n",
      "start training...\n"
     ]
    },
    {
     "name": "stdout",
     "output_type": "stream",
     "text": [
      "INFO: building dataloaders...\n",
      "INFO: train/val/test split ratios: 0.83334/0.16667/0.0\n",
      "INFO: train size: 58333, validation size: 11666, testing sizes: 0\n"
     ]
    },
    {
     "data": {
      "application/vnd.jupyter.widget-view+json": {
       "model_id": "e7f30886a4624f4c9d13fa1c12e321f3",
       "version_major": 2,
       "version_minor": 0
      },
      "text/plain": [
       "epochs:   0%|          | 0/10 [00:00<?, ?it/s]"
      ]
     },
     "metadata": {},
     "output_type": "display_data"
    }
   ],
   "source": [
    "from cmb.models.architectures.classifiers import DiscreteStateMLP\n",
    "from cmb.dynamics.cjb import ConditionalJumpBridge\n",
    "from cmb.models.trainers import CMBTrainer\n",
    "\n",
    "conf = Configs()\n",
    "images = CouplingData(config)\n",
    "dynamics = ConditionalJumpBridge(conf)\n",
    "classifier = DiscreteStateMLP(conf)\n",
    "generative_model = CMBTrainer(dynamics, classifier, images)\n",
    "generative_model.train()"
   ]
  },
  {
   "cell_type": "markdown",
   "metadata": {},
   "source": [
    "# Generate samples"
   ]
  },
  {
   "cell_type": "code",
   "execution_count": 4,
   "metadata": {},
   "outputs": [],
   "source": [
    "from cmb.models.pipelines import CJBPipeline\n",
    "\n",
    "num_samples = 16\n",
    "pipeline = CJBPipeline(trained_model=generative_model, config=conf)\n",
    "input = CouplingData(config)\n",
    "pipeline.generate_samples(input_source=input.source.discrete.long()[-num_samples:])\n"
   ]
  },
  {
   "cell_type": "code",
   "execution_count": 5,
   "metadata": {},
   "outputs": [],
   "source": [
    "sample = pipeline.jumps.view(config.num_timesteps, num_samples, 1, 28, 28).float()\n",
    "k1 = pipeline.k1.view(num_samples, 1, 28, 28).float()\n"
   ]
  },
  {
   "cell_type": "markdown",
   "metadata": {},
   "source": [
    "### MLP embedding (10 epochs)"
   ]
  },
  {
   "cell_type": "code",
   "execution_count": 10,
   "metadata": {},
   "outputs": [
    {
     "data": {
      "image/png": "[encoded data removed]",
      "text/plain": [
       "<PIL.Image.Image image mode=L size=336x280>"
      ]
     },
     "execution_count": 10,
     "metadata": {},
     "output_type": "execute_result"
    }
   ],
   "source": [
    "import random\n",
    "\n",
    "from torchvision.transforms import ToPILImage\n",
    "\n",
    "transform = ToPILImage()\n",
    "generated_sample = []\n",
    "\n",
    "boundary = torch\n",
    "\n",
    "for idx in random.sample(range(0, num_samples), 10):\n",
    "    img = []\n",
    "    img1 = []\n",
    "    \n",
    "    for time_step in range(0, config.num_timesteps, 10):\n",
    "        img.append(sample[time_step, idx,:,:,:]) \n",
    "    img.append(sample[-1, idx,:,:,:]) \n",
    "    img.append(k1[idx,:,:,:])\n",
    "    img = torch.cat(img, dim=-1)\n",
    "    generated_sample.append(img)\n",
    "\n",
    "generated_sample = torch.cat(generated_sample, dim=1)\n",
    "transform(generated_sample)"
   ]
  },
  {
   "cell_type": "markdown",
   "metadata": {},
   "source": [
    "### KAN embedding (10 epochs)"
   ]
  },
  {
   "cell_type": "code",
   "execution_count": 6,
   "metadata": {},
   "outputs": [
    {
     "data": {
      "image/png": "[encoded data removed]",
      "text/plain": [
       "<PIL.Image.Image image mode=L size=336x280>"
      ]
     },
     "execution_count": 6,
     "metadata": {},
     "output_type": "execute_result"
    }
   ],
   "source": [
    "import random\n",
    "\n",
    "from torchvision.transforms import ToPILImage\n",
    "\n",
    "transform = ToPILImage()\n",
    "generated_sample = []\n",
    "\n",
    "boundary = torch\n",
    "\n",
    "for idx in random.sample(range(0, num_samples), 10):\n",
    "    img = []\n",
    "    img1 = []\n",
    "    \n",
    "    for time_step in range(0, config.num_timesteps, 10):\n",
    "        img.append(sample[time_step, idx,:,:,:]) \n",
    "    img.append(sample[-1, idx,:,:,:]) \n",
    "    img.append(k1[idx,:,:,:])\n",
    "    img = torch.cat(img, dim=-1)\n",
    "    generated_sample.append(img)\n",
    "\n",
    "generated_sample = torch.cat(generated_sample, dim=1)\n",
    "transform(generated_sample)"
   ]
  },
  {
   "cell_type": "code",
   "execution_count": null,
   "metadata": {},
   "outputs": [],
   "source": []
  }
 ],
 "metadata": {
  "kernelspec": {
   "display_name": "flow_match_env",
   "language": "python",
   "name": "python3"
  },
  "language_info": {
   "codemirror_mode": {
    "name": "ipython",
    "version": 3
   },
   "file_extension": ".py",
   "mimetype": "text/x-python",
   "name": "python",
   "nbconvert_exporter": "python",
   "pygments_lexer": "ipython3",
   "version": "3.9.16"
  },
  "orig_nbformat": 4
 },
 "nbformat": 4,
 "nbformat_minor": 2
}
