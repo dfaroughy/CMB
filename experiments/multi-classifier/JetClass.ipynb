{
 "cells": [
  {
   "cell_type": "code",
   "execution_count": 1,
   "id": "a69b5295",
   "metadata": {},
   "outputs": [],
   "source": [
    "from cmb.configs.utils import Configs\n",
    "\n",
    "config = Configs('classifier.yaml') \n"
   ]
  },
  {
   "cell_type": "code",
   "execution_count": 2,
   "id": "a1789c7a",
   "metadata": {},
   "outputs": [
    {
     "name": "stdout",
     "output_type": "stream",
     "text": [
      "experiment:\n",
      "    type: classifier\n",
      "    name: multi_model\n",
      "    workdir: /home/df630/CMB/metrics\n",
      "data:\n",
      "    params:\n",
      "        min_num_particles: 0\n",
      "        max_num_particles: 128\n",
      "    train:\n",
      "        name: Generated\n",
      "        path: ['/Users/dario/Dropbox/PROJECTS/ML/JetData/JetClass/samples/QCD-8k-set1/gen_sample_QCD-10k-finetune.parquet', '/Users/dario/Dropbox/PROJECTS/ML/JetData/JetClass/samples/QCD-8k-set1/gen_sample_QCD-10k-fromscratch.parquet']\n",
      "    test:\n",
      "        name: JetClass\n",
      "        path: ['/Users/dario/Dropbox/PROJECTS/ML/JetData/JetClass/JetClass_Pythia_train_100M_part0/TTBar_001.root']\n",
      "    dim:\n",
      "        continuous: 3\n",
      "        discrete: 1\n",
      "    vocab:\n",
      "        size: 8\n",
      "    preprocess:\n",
      "        continuous: standardize\n",
      "        discrete: states\n",
      "model:\n",
      "    name: ParticleNet\n",
      "    dim:\n",
      "        embed:\n",
      "            time: 16\n",
      "            features:\n",
      "                continuous: 16\n",
      "                discrete: 16\n",
      "            context:\n",
      "                continuous: 0\n",
      "                discrete: 0\n",
      "        hidden:\n",
      "            local: 128\n",
      "            glob: 16\n",
      "    embed_type:\n",
      "        time: SinusoidalPositionalEncoding\n",
      "        features:\n",
      "            continuous: Linear\n",
      "            discrete: Embedding\n",
      "        context:\n",
      "            continuous: None\n",
      "            discrete: None\n",
      "    skip_connection: True\n",
      "    dropout: 0.1\n",
      "    activation: SELU\n",
      "    no_discrete_head: False\n",
      "train:\n",
      "    device: cuda:2\n",
      "    multi_gpu: False\n",
      "    batch_size: 1024\n",
      "    data_split_frac: [0.9, 0.1, 0.0]\n",
      "    epochs: 500\n",
      "    early_stopping: None\n",
      "    min_epochs: None\n",
      "    print_epochs: 10\n",
      "    num_workers: 0\n",
      "    pin_memory: False\n",
      "    optimizer:\n",
      "        name: AdamW\n",
      "        params:\n",
      "            lr: 0.001\n",
      "            weight_decay: 5e-05\n",
      "            betas: [0.9, 0.999]\n",
      "            eps: 1e-08\n",
      "            amsgrad: False\n",
      "        gradient_clip: 1.0\n",
      "    scheduler:\n",
      "        name: CosineAnnealingLR\n",
      "        params:\n",
      "            T_max: 500\n",
      "            eta_min: 1e-05\n",
      "            last_epoch: -1\n"
     ]
    }
   ],
   "source": [
    "config.print()"
   ]
  },
  {
   "cell_type": "code",
   "execution_count": 11,
   "id": "615b5788",
   "metadata": {},
   "outputs": [],
   "source": [
    "import torch\n",
    "from cmb.datasets.utils import extract_jetclass_features, extract_aoj_features\n",
    "\n",
    "class ClassifierMetric:\n",
    "    def __init__(self, config):\n",
    "\n",
    "        self.continuous = []\n",
    "        self.discrete = []\n",
    "        self.mask = []\n",
    "        self.class_label = []\n",
    "        params = config.data.params.to_dict()\n",
    "\n",
    "        if 'JetClass' in config.data.test.name:\n",
    "            continuous, discrete, mask = extract_jetclass_features(config.data.test.path, **params)\n",
    "            label = torch.zeros(continuous.shape[0], 1)\n",
    "            self.continuous.append(continuous)\n",
    "            self.discrete.append(discrete)\n",
    "            self.mask.append(mask)\n",
    "            self.class_label.append(label)\n",
    "\n",
    "        elif 'AspenOpenJets' in config.data.test.name:\n",
    "            continuous, self.discrete, self.mask = extract_aoj_features(config.data.test.path, **params)\n",
    "\n",
    "        for i, data in enumerate(config.data.train.path):\n",
    "            i+=1\n",
    "            \n",
    "\n",
    "\n"
   ]
  },
  {
   "cell_type": "code",
   "execution_count": 12,
   "id": "bfb01f9f",
   "metadata": {},
   "outputs": [],
   "source": [
    "from cmb.models.trainers import GenerativeDynamicsModule\n",
    "cmb = ClassifierMetric(config)\n"
   ]
  },
  {
   "cell_type": "code",
   "execution_count": 17,
   "id": "487ec295",
   "metadata": {},
   "outputs": [
    {
     "data": {
      "text/plain": [
       "torch.Size([100000, 1])"
      ]
     },
     "execution_count": 17,
     "metadata": {},
     "output_type": "execute_result"
    }
   ],
   "source": [
    "cmb.class_label[0].shape"
   ]
  },
  {
   "cell_type": "code",
   "execution_count": null,
   "id": "537b6e6d",
   "metadata": {},
   "outputs": [],
   "source": []
  },
  {
   "cell_type": "code",
   "execution_count": null,
   "id": "43f0d58e",
   "metadata": {},
   "outputs": [],
   "source": []
  },
  {
   "cell_type": "code",
   "execution_count": 1,
   "id": "127b9f2f",
   "metadata": {},
   "outputs": [],
   "source": [
    "import torch\n",
    "import numpy as np\n",
    "import awkward as ak\n",
    "import fastjet\n",
    "import vector\n",
    "import scipy\n",
    "import seaborn as sns\n",
    "import matplotlib.pyplot as plt\n",
    "from matplotlib.lines import Line2D\n",
    "from dataclasses import dataclass\n",
    "plt.rcParams['mathtext.fontset']= 'cm'\n",
    "plt.rcParams['figure.autolayout'] = False\n",
    "\n",
    "vector.register_awkward()\n",
    "\n",
    "from cmb.datasets.utils import (extract_jetclass_features, \n",
    "                                extract_aoj_features, \n",
    "                                sample_noise, \n",
    "                                sample_masks, \n",
    "                                flavor_to_onehot, \n",
    "                                states_to_flavor)\n",
    "\n",
    "class JetDataclass:\n",
    "    ''' class that prepares the source-target coupling\n",
    "    '''\n",
    "    def __init__(self, config, task, num_jets=None):\n",
    "        assert task=='train' or task=='test', 'Please specify downstream task: `train`, `test`'\n",
    "        kwargs_target = config.target.params.to_dict()\n",
    "        kwargs_source = config.source.params.to_dict()\n",
    "        \n",
    "        #...target:\n",
    "\n",
    "        self.target = ParticleClouds(dataset=config.target.name,\n",
    "                                     data_paths=getattr(config.target.train, 'path', None) if task == 'train' else getattr(config.target.test, 'path', None),\n",
    "                                     **kwargs_target)\n",
    "\n",
    "        #... noise source:\n",
    "        \n",
    "        kwargs_source['set_masks_like'] = self.target.multiplicity \n",
    "        kwargs_source['num_jets'] = len(self.target) if num_jets is None else num_jets\n",
    "\n",
    "        self.source = ParticleClouds(dataset=config.source.name,\n",
    "                                     data_paths=getattr(config.source.train, 'path', None) if task == 'train' else getattr(config.source.test, 'path', None),\n",
    "                                     **kwargs_source)        \n",
    "\n",
    "class ParticleClouds:\n",
    "    def __init__(self, \n",
    "                 dataset='JetClass',\n",
    "                 data_paths=None,\n",
    "                 **data_params\n",
    "                 ):\n",
    "    \n",
    "        if isinstance(dataset, torch.Tensor):\n",
    "            self.continuous, self.discrete, self.mask  = dataset[..., :3], dataset[..., 3:-1].long(), dataset[..., -1].unsqueeze(-1).long()\n",
    "            if not self.discrete.nelement():\n",
    "                del self.discrete\n",
    "\n",
    "        elif 'JetClass' in dataset:\n",
    "            assert data_paths is not None, 'Specify the path to the JetClass dataset'\n",
    "            self.continuous, self.discrete, self.mask = extract_jetclass_features(data_paths,  **data_params)\n",
    "       \n",
    "        elif 'AspenOpenJets' in dataset:\n",
    "            assert data_paths is not None, 'Specify the path to the AspenOpenJet dataset'\n",
    "            self.continuous, self.discrete, self.mask = extract_aoj_features(data_paths, **data_params)\n",
    "\n",
    "        elif 'Noise' in dataset:\n",
    "            self.continuous, self.discrete = sample_noise(dataset, **data_params) \n",
    "            self.mask = sample_masks(**data_params)\n",
    "            self.continuous *= self.mask\n",
    "            self.discrete *= self.mask\n",
    "\n",
    "        #...attributes:\n",
    "\n",
    "        self.pt = self.continuous[...,0] \n",
    "        self.eta_rel = self.continuous[...,1]\n",
    "        self.phi_rel = self.continuous[...,2]\n",
    "        self.multiplicity = torch.sum(self.mask, dim=1)\n",
    "\n",
    "        if hasattr(self,'discrete'):\n",
    "            self.flavor = self.discrete[..., :-1]\n",
    "            self.charge = self.discrete[..., -1]\n",
    "\n",
    "\n",
    "    def __len__(self):\n",
    "        return self.continuous.shape[0]\n",
    "\n",
    "    def compute_4mom(self):\n",
    "        self.px = self.pt * torch.cos(self.phi_rel)\n",
    "        self.py = self.pt * torch.sin(self.phi_rel)\n",
    "        self.pz = self.pt * torch.sinh(self.eta_rel)\n",
    "        self.e = self.pt * torch.cosh(self.eta_rel)\n",
    "        \n",
    "    #...data processing methods\n",
    "\n",
    "    def summary_stats(self):\n",
    "        mask = self.mask.squeeze(-1) > 0\n",
    "        data = self.continuous[mask]\n",
    "        return {'mean': data.mean(0).tolist(),\n",
    "                'std': data.std(0).tolist(),\n",
    "                'min': data.min(0).values.tolist(),\n",
    "                'max': data.max(0).values.tolist()}\n",
    "\n",
    "    def preprocess(self, \n",
    "                   output_continuous='standardize', \n",
    "                   output_discrete='states',\n",
    "                   stats=None):\n",
    "        \n",
    "        if output_discrete == 'onehot_dequantize':\n",
    "            one_hot = flavor_to_onehot(self.discrete[..., :-1],  self.discrete[..., -1])\n",
    "            self.continuous = torch.cat([self.continuous, one_hot], dim=-1)\n",
    "            del self.discrete\n",
    "        elif output_discrete == 'states':\n",
    "            one_hot = flavor_to_onehot(self.discrete[..., :-1],  self.discrete[..., -1])\n",
    "            self.discrete = torch.argmax(one_hot, dim=-1).unsqueeze(-1).long()\n",
    "\n",
    "        if output_continuous == 'standardize':\n",
    "            self.stats = self.summary_stats() if stats is None else stats\n",
    "            self.continuous = (self.continuous - torch.tensor(self.stats['mean'])) / (torch.tensor(self.stats['std'])) \n",
    "            self.continuous *= self.mask\n",
    "            self.pt = self.continuous[...,0] \n",
    "            self.eta_rel = self.continuous[...,1]\n",
    "            self.phi_rel = self.continuous[...,2]\n",
    "\n",
    "    def postprocess(self, \n",
    "                    input_continuous='standardize', \n",
    "                    input_discrete='states',\n",
    "                    stats=None):\n",
    "        \n",
    "        if input_continuous == 'standardize':                 \n",
    "            if input_discrete == 'onehot_dequantize':\n",
    "                self.continuous = torch.cat([self.continuous, self.discrete], dim=-1)\n",
    "                \n",
    "            stats = getattr(self, 'stats', stats)\n",
    "            self.continuous = (self.continuous * torch.tensor(stats['std'])) + torch.tensor(stats['mean'])\n",
    "            self.continuous *= self.mask\n",
    "            self.pt = self.continuous[...,0] \n",
    "            self.eta_rel = self.continuous[...,1]\n",
    "            self.phi_rel = self.continuous[...,2]\n",
    "\n",
    "        if input_discrete == 'onehot_dequantize':\n",
    "            discrete = torch.argmax(self.continuous[...,3:], dim=-1).unsqueeze(-1).long()\n",
    "            self.flavor, self.charge = states_to_flavor(discrete)\n",
    "            self.discrete = torch.cat([self.flavor, self.charge], dim=-1)\n",
    "            self.flavor *= self.mask\n",
    "            self.charge *= self.mask\n",
    "            self.discrete *= self.mask\n",
    "            self.continuous = self.continuous[...,:3]\n",
    "\n",
    "        if input_discrete == 'states':\n",
    "            self.flavor, self.charge = states_to_flavor(self.discrete)\n",
    "            self.discrete = torch.cat([self.flavor, self.charge], dim=-1)\n",
    "            self.flavor *= self.mask\n",
    "            self.charge *= self.mask\n",
    "            self.discrete *= self.mask            \n",
    "\n",
    "    #...data visualization methods\n",
    "\n",
    "    def histplot(self, feature='pt',  idx=None, xlim=None, ylim=None, xlabel=None, ylabel=None, figsize=(3,3), fontsize=12, ax=None, **kwargs):\n",
    "        mask = self.mask.squeeze(-1) > 0\n",
    "        if ax is None: _, ax = plt.subplots(figsize=figsize)   \n",
    "        x = getattr(self, feature)[mask] if idx is None else getattr(self, feature)[:,idx]\n",
    "        sns.histplot(x=x, element=\"step\", ax=ax, **kwargs) \n",
    "        ax.set_xlabel(feature if xlabel is None else xlabel, fontsize=fontsize)\n",
    "        ax.set_ylabel(ylabel, fontsize=fontsize)\n",
    "        ax.set_xlim(xlim)\n",
    "        ax.set_ylim(ylim)\n",
    "\n",
    "    def display_cloud(self, idx, scale_marker=1.0, ax=None, figsize=(3,3), facecolor='whitesmoke', color='darkblue', title_box_anchor=(1.025,1.125), savefig=None):\n",
    "        eta = self.eta_rel[idx]\n",
    "        phi = self.phi_rel[idx]\n",
    "        pt = self.pt[idx] * scale_marker \n",
    "        flavor = torch.argmax(self.flavor[idx], dim=-1)\n",
    "        q = self.charge[idx]\n",
    "        mask = self.mask[idx]\n",
    "        pt = pt[mask.squeeze(-1) > 0]\n",
    "        eta = eta[mask.squeeze(-1) > 0]\n",
    "        phi = phi[mask.squeeze(-1) > 0]\n",
    "        flavor = flavor[mask.squeeze(-1) > 0]\n",
    "        charge = q[mask.squeeze(-1) > 0]\n",
    "\n",
    "        if ax is None: _, ax = plt.subplots(figsize=figsize)            \n",
    "\n",
    "        ax.scatter(eta[flavor==0], phi[flavor==0], marker='o', s=pt[flavor==0], color='gold', alpha=0.5,  label=r'$\\gamma$')\n",
    "        ax.scatter(eta[flavor==1], phi[flavor==1], marker='o', s=pt[flavor==1], color='darkred', alpha=0.5, label=r'$h^{0}$')\n",
    "        ax.scatter(eta[(flavor==2) & (charge<0)], phi[(flavor==2) & (charge<0)], marker='^', s=pt[(flavor==2) & (charge<0)], color='darkred', alpha=0.5,  label=r'$h^{-}$')\n",
    "        ax.scatter(eta[(flavor==2) & (charge>0)], phi[(flavor==2) & (charge>0)], marker='v', s=pt[(flavor==2) & (charge>0)], color='darkred', alpha=0.5,  label=r'$h^{+}$')\n",
    "        ax.scatter(eta[(flavor==3) & (charge<0)], phi[(flavor==3) & (charge<0)], marker='^', s=pt[(flavor==3) & (charge<0)], color='blue', alpha=0.5,  label=r'$e^{-}$')\n",
    "        ax.scatter(eta[(flavor==3) & (charge>0)], phi[(flavor==3) & (charge>0)], marker='v', s=pt[(flavor==3) & (charge>0)], color='blue', alpha=0.5,  label=r'$e^{+}$')\n",
    "        ax.scatter(eta[(flavor==4) & (charge<0)], phi[(flavor==4) & (charge<0)], marker='^', s=pt[(flavor==4) & (charge<0)], color='green', alpha=0.5,  label=r'$\\mu^{-}$')\n",
    "        ax.scatter(eta[(flavor==4) & (charge>0)], phi[(flavor==4) & (charge>0)], marker='v', s=pt[(flavor==4) & (charge>0)], color='green', alpha=0.5,  label=r'$\\mu^{+}$')\n",
    "\n",
    "        # Define custom legend markers\n",
    "        h1 = Line2D([0], [0], marker='o', markersize=2, alpha=0.5, color='gold', linestyle='None')\n",
    "        h2 = Line2D([0], [0], marker='o', markersize=2, alpha=0.5, color='darkred', linestyle='None')\n",
    "        h3 = Line2D([0], [0], marker='^', markersize=2, alpha=0.5, color='darkred', linestyle='None')\n",
    "        h4 = Line2D([0], [0], marker='v', markersize=2, alpha=0.5, color='darkred', linestyle='None')\n",
    "        h5 = Line2D([0], [0], marker='^', markersize=2, alpha=0.5, color='blue', linestyle='None')\n",
    "        h6 = Line2D([0], [0], marker='v', markersize=2, alpha=0.5, color='blue', linestyle='None')\n",
    "        h7 = Line2D([0], [0], marker='^', markersize=2, alpha=0.5, color='green', linestyle='None')\n",
    "        h8 = Line2D([0], [0], marker='v', markersize=2, alpha=0.5, color='green', linestyle='None')\n",
    "\n",
    "        plt.legend([h1, h2, h3, h4, h5, h6, h7, h8], \n",
    "                [r'$\\gamma$', r'$h^0$', r'$h^-$', r'$h^+$', r'$e^-$', r'$e^+$', r'$\\mu^{-}$', r'$\\mu^{+}$'], \n",
    "                loc=\"upper right\", \n",
    "                markerscale=2, \n",
    "                scatterpoints=1, \n",
    "                fontsize=8,  \n",
    "                frameon=False,\n",
    "                ncol=8,\n",
    "                bbox_to_anchor=title_box_anchor,\n",
    "                handletextpad=-0.5,  \n",
    "                columnspacing=.1)\n",
    "        ax.set_xticks([])\n",
    "        ax.set_yticks([])\n",
    "        ax.set_facecolor(facecolor)  # Set the same color for the axis background\n",
    "        if savefig is not None:\n",
    "            plt.savefig(savefig)\n",
    "\n",
    "class JetClassHighLevelFeatures:\n",
    "    def __init__(self, constituents: ParticleClouds):\n",
    "\n",
    "        self.constituents = constituents\n",
    "\n",
    "        #...compute jet kinematics:\n",
    "        self.constituents.compute_4mom()\n",
    "        self.px = self.constituents.px.sum(axis=-1)\n",
    "        self.py = self.constituents.py.sum(axis=-1)\n",
    "        self.pz = self.constituents.pz.sum(axis=-1)\n",
    "        self.e = self.constituents.e.sum(axis=-1)\n",
    "        self.pt = torch.clamp_min(self.px**2 + self.py**2, 0).sqrt()\n",
    "        self.m = torch.clamp_min(self.e**2 - self.px**2 - self.py**2 - self.pz**2, 0).sqrt()\n",
    "        self.eta = 0.5 * torch.log((self.pt + self.pz) / (self.pt - self.pz))\n",
    "        self.phi = torch.atan2(self.py, self.px)\n",
    "\n",
    "        # discrete jet features\n",
    "        self.multiplicity = torch.sum(self.constituents.mask, dim=1)\n",
    "        if hasattr(self.constituents, 'discrete'):\n",
    "            self.Q_total = self.jet_charge(kappa=0.0)\n",
    "            self.Q_jet = self.jet_charge(kappa=1.0)\n",
    "\n",
    "        #...subsstructure\n",
    "        self.R = 0.8\n",
    "        self.beta = 1.0\n",
    "        self.use_wta_scheme = False\n",
    "        self.substructure()\n",
    "\n",
    "    def histplot(self, features='pt', xlim=None, ylim=None, xlabel=None, ylabel=None, figsize=(3,3), fontsize=12, ax=None, **kwargs):\n",
    "        x = getattr(self, features)\n",
    "        if isinstance(x, torch.Tensor): x.cpu().numpy()\n",
    "        if ax is None: \n",
    "            _, ax = plt.subplots(figsize=figsize)   \n",
    "        sns.histplot(x=x, element=\"step\", ax=ax, **kwargs) \n",
    "        ax.set_xlabel(features if xlabel is None else xlabel, fontsize=fontsize)\n",
    "        ax.set_ylabel(ylabel, fontsize=fontsize)\n",
    "        ax.set_xlim(xlim)\n",
    "        ax.set_ylim(ylim)\n",
    "\n",
    "    def jet_charge(self, kappa):\n",
    "        ''' jet charge defined as Q_j^kappa = Sum_i Q_i * (pT_i / pT_jet)^kappa\n",
    "        '''\n",
    "        Qjet = self.constituents.charge.squeeze(-1) * (self.constituents.pt)**kappa\n",
    "        return Qjet.sum(axis=1) / (self.pt**kappa) \n",
    "    \n",
    "    def histplot_multiplicities(self, state=None, xlim=None, ylim=None, xlabel=None, ylabel=None, figsize=(3,3), fontsize=12, ax=None, **kwargs):\n",
    "        if state is not None:\n",
    "            if isinstance(state, int):\n",
    "                state = [state]\n",
    "            multiplicity = torch.zeros(self.constituents.discrete.shape[0], 1)\n",
    "            for s in state:\n",
    "                x = (torch.argmax(self.constituents.discrete, dim=-1).unsqueeze(-1) == s) * self.constituents.mask\n",
    "                multiplicity += x.sum(dim=1)\n",
    "        else:\n",
    "            multiplicity = self.multiplicity\n",
    "\n",
    "        if ax is None: \n",
    "            _, ax = plt.subplots(figsize=figsize)   \n",
    "        sns.histplot(x=multiplicity.squeeze(-1), element=\"step\", ax=ax, discrete=True, **kwargs) \n",
    "        ax.set_xlabel(xlabel, fontsize=fontsize)\n",
    "        ax.set_ylabel(ylabel, fontsize=fontsize)\n",
    "        ax.set_xlim(xlim)\n",
    "        ax.set_ylim(ylim)\n",
    "\n",
    "    def flavor_fractions(self, figsize=(3,3), fontsize=12, ax=None, **kwargs):\n",
    "        if ax is None: \n",
    "            _, ax = plt.subplots(figsize=figsize)                                          \n",
    "        sns.histplot(self.constituents.discrete[self.constituents.mask].squeeze(), binrange=(-0.1, 7.1), element=\"step\", ax=ax, discrete=True, **kwargs)\n",
    "        ax.legend(loc='upper right', fontsize=8)\n",
    "        ax.set_xlabel('Particle flavor', fontsize=fontsize)\n",
    "        ax.set_xticks(np.arange(8))\n",
    "        ax.set_xticklabels([r'$\\gamma$', r'$h^0$', r'$h^-$', r'$h^+$', r'$e^-$', r'$e^+$', r'$\\mu^-$', r'$\\mu^+$'])\n",
    "\n",
    "    def substructure(self):\n",
    "        constituents_ak = ak.zip({ \"pt\": np.array(self.constituents.pt),\n",
    "                                   \"eta\": np.array(self.constituents.eta_rel),\n",
    "                                   \"phi\": np.array(self.constituents.phi_rel),\n",
    "                                   \"mass\": np.zeros_like(np.array(self.constituents.pt))\n",
    "                                   },\n",
    "                                  with_name=\"Momentum4D\")\n",
    "\n",
    "        constituents_ak = ak.mask(constituents_ak, constituents_ak.pt > 0)\n",
    "        constituents_ak = ak.drop_none(constituents_ak)\n",
    "        self.constituents_ak = constituents_ak[ak.num(constituents_ak) >= 3]\n",
    "        if self.use_wta_scheme:\n",
    "            jetdef = fastjet.JetDefinition(fastjet.kt_algorithm, self.R, fastjet.WTA_pt_scheme)\n",
    "        else:\n",
    "            jetdef = fastjet.JetDefinition(fastjet.kt_algorithm, self.R)\n",
    "        print(\"Clustering jets with fastjet\")\n",
    "        print(\"Jet definition:\", jetdef)\n",
    "        self.cluster = fastjet.ClusterSequence(self.constituents_ak, jetdef)\n",
    "        self.inclusive_jets = self.cluster.inclusive_jets()\n",
    "        self.exclusive_jets_1 = self.cluster.exclusive_jets(n_jets=1)\n",
    "        self.exclusive_jets_2 = self.cluster.exclusive_jets(n_jets=2)\n",
    "        self.exclusive_jets_3 = self.cluster.exclusive_jets(n_jets=3)\n",
    "        print(\"Calculating N-subjettiness\")\n",
    "        self._calc_d0()\n",
    "        self._calc_tau1()\n",
    "        self._calc_tau2()\n",
    "        self._calc_tau3()\n",
    "        self.tau21 = np.ma.divide(self.tau2, self.tau1)\n",
    "        self.tau32 = np.ma.divide(self.tau3, self.tau2)\n",
    "        print(\"Calculating D2\")\n",
    "        # D2 as defined in https://arxiv.org/pdf/1409.6298.pdf\n",
    "        self.d2 = self.cluster.exclusive_jets_energy_correlator(njets=1, func=\"d2\")\n",
    "\n",
    "    def _calc_deltaR(self, particles, jet):\n",
    "        jet = ak.unflatten(ak.flatten(jet), counts=1)\n",
    "        return particles.deltaR(jet)\n",
    "\n",
    "    def _calc_d0(self):\n",
    "        \"\"\"Calculate the d0 values.\"\"\"\n",
    "        self.d0 = ak.sum(self.constituents_ak.pt * self.R**self.beta, axis=1)\n",
    "\n",
    "    def _calc_tau1(self):\n",
    "        \"\"\"Calculate the tau1 values.\"\"\"\n",
    "        self.delta_r_1i = self._calc_deltaR(self.constituents_ak, self.exclusive_jets_1[:, :1])\n",
    "        self.pt_i = self.constituents_ak.pt\n",
    "        self.tau1 = ak.sum(self.pt_i * self.delta_r_1i**self.beta, axis=1) / self.d0\n",
    "\n",
    "    def _calc_tau2(self):\n",
    "        \"\"\"Calculate the tau2 values.\"\"\"\n",
    "        delta_r_1i = self._calc_deltaR(self.constituents_ak, self.exclusive_jets_2[:, :1])\n",
    "        delta_r_2i = self._calc_deltaR(self.constituents_ak, self.exclusive_jets_2[:, 1:2])\n",
    "        self.pt_i = self.constituents_ak.pt\n",
    "        # add new axis to make it broadcastable\n",
    "        min_delta_r = ak.min(\n",
    "            ak.concatenate(\n",
    "                [\n",
    "                    delta_r_1i[..., np.newaxis] ** self.beta,\n",
    "                    delta_r_2i[..., np.newaxis] ** self.beta,\n",
    "                ],\n",
    "                axis=-1,\n",
    "            ),\n",
    "            axis=-1,\n",
    "        )\n",
    "        self.tau2 = ak.sum(self.pt_i * min_delta_r, axis=1) / self.d0\n",
    "\n",
    "    def _calc_tau3(self):\n",
    "        \"\"\"Calculate the tau3 values.\"\"\"\n",
    "        delta_r_1i = self._calc_deltaR(self.constituents_ak, self.exclusive_jets_3[:, :1])\n",
    "        delta_r_2i = self._calc_deltaR(self.constituents_ak, self.exclusive_jets_3[:, 1:2])\n",
    "        delta_r_3i = self._calc_deltaR(self.constituents_ak, self.exclusive_jets_3[:, 2:3])\n",
    "        self.pt_i = self.constituents_ak.pt\n",
    "        min_delta_r = ak.min(\n",
    "            ak.concatenate(\n",
    "                [\n",
    "                    delta_r_1i[..., np.newaxis] ** self.beta,\n",
    "                    delta_r_2i[..., np.newaxis] ** self.beta,\n",
    "                    delta_r_3i[..., np.newaxis] ** self.beta,\n",
    "                ],\n",
    "                axis=-1,\n",
    "            ),\n",
    "            axis=-1,\n",
    "        )\n",
    "        self.tau3 = ak.sum(self.pt_i * min_delta_r, axis=1) / self.d0\n",
    "\n",
    "    def histogram(self, features='pt', density=True, num_bins=100, use_quantiles=False):\n",
    "        x = getattr(self, features)\n",
    "        bins = np.quantile(x, np.linspace(0.001, 0.999, num_bins)) if use_quantiles else num_bins\n",
    "        return np.histogram(x, density=density, bins=bins)[0]\n",
    "\n",
    "    def KLmetric1D(self, feature, reference, num_bins=100, use_quantiles=True):\n",
    "        h1 = self.histogram(feature, density=True, num_bins=num_bins, use_quantiles=use_quantiles) + 1e-8\n",
    "        h2 = reference.histogram(feature, density=True, num_bins=num_bins, use_quantiles=use_quantiles) + 1e-8\n",
    "        return scipy.stats.entropy(h1, h2)  \n",
    "\n",
    "    def Wassertein1D(self, feature, reference):\n",
    "        x = getattr(self, feature)\n",
    "        y = getattr(reference, feature)\n",
    "        return scipy.stats.wasserstein_distance(x, y)\n",
    "            \n",
    "\n"
   ]
  },
  {
   "cell_type": "code",
   "execution_count": 2,
   "id": "dd4115c3",
   "metadata": {},
   "outputs": [
    {
     "name": "stderr",
     "output_type": "stream",
     "text": [
      "/home/df630/CMB/src/cmb/datasets/utils.py:109: UserWarning: To copy construct from a tensor, it is recommended to use sourceTensor.clone().detach() or sourceTensor.clone().detach().requires_grad_(True), rather than torch.tensor(sourceTensor).\n",
      "  discrete = torch.tensor(discrete).long()\n"
     ]
    }
   ],
   "source": [
    "jets = ParticleClouds('JetClass', data_paths='../../data/JetClass/TTBar_000.root', min_num_particles=0, max_num_particles=128)\n",
    "noise = ParticleClouds('GaussNoise', set_masks_like=jets.multiplicity, num_jets=1000, min_num_particles=0, max_num_particles=128)"
   ]
  },
  {
   "cell_type": "code",
   "execution_count": 4,
   "id": "5e6a2c64",
   "metadata": {},
   "outputs": [
    {
     "data": {
      "text/html": [
       "<div>\n",
       "<style scoped>\n",
       "    .dataframe tbody tr th:only-of-type {\n",
       "        vertical-align: middle;\n",
       "    }\n",
       "\n",
       "    .dataframe tbody tr th {\n",
       "        vertical-align: top;\n",
       "    }\n",
       "\n",
       "    .dataframe thead th {\n",
       "        text-align: right;\n",
       "    }\n",
       "</style>\n",
       "<table border=\"1\" class=\"dataframe\">\n",
       "  <thead>\n",
       "    <tr style=\"text-align: right;\">\n",
       "      <th></th>\n",
       "      <th>pt</th>\n",
       "      <th>eta</th>\n",
       "      <th>phi</th>\n",
       "      <th>photon</th>\n",
       "      <th>neutral hadron</th>\n",
       "      <th>charged hadron</th>\n",
       "      <th>electorn</th>\n",
       "      <th>muon</th>\n",
       "      <th>charge</th>\n",
       "      <th>mask</th>\n",
       "    </tr>\n",
       "  </thead>\n",
       "  <tbody>\n",
       "    <tr>\n",
       "      <th>0</th>\n",
       "      <td>52.893391</td>\n",
       "      <td>0.235717</td>\n",
       "      <td>0.070941</td>\n",
       "      <td>0.0</td>\n",
       "      <td>1.0</td>\n",
       "      <td>0.0</td>\n",
       "      <td>0.0</td>\n",
       "      <td>0.0</td>\n",
       "      <td>0.0</td>\n",
       "      <td>1.0</td>\n",
       "    </tr>\n",
       "    <tr>\n",
       "      <th>1</th>\n",
       "      <td>51.133469</td>\n",
       "      <td>0.237236</td>\n",
       "      <td>0.040771</td>\n",
       "      <td>1.0</td>\n",
       "      <td>0.0</td>\n",
       "      <td>0.0</td>\n",
       "      <td>0.0</td>\n",
       "      <td>0.0</td>\n",
       "      <td>0.0</td>\n",
       "      <td>1.0</td>\n",
       "    </tr>\n",
       "    <tr>\n",
       "      <th>2</th>\n",
       "      <td>46.431629</td>\n",
       "      <td>0.257174</td>\n",
       "      <td>0.023169</td>\n",
       "      <td>0.0</td>\n",
       "      <td>0.0</td>\n",
       "      <td>1.0</td>\n",
       "      <td>0.0</td>\n",
       "      <td>0.0</td>\n",
       "      <td>-1.0</td>\n",
       "      <td>1.0</td>\n",
       "    </tr>\n",
       "    <tr>\n",
       "      <th>3</th>\n",
       "      <td>25.112171</td>\n",
       "      <td>0.304080</td>\n",
       "      <td>0.047000</td>\n",
       "      <td>1.0</td>\n",
       "      <td>0.0</td>\n",
       "      <td>0.0</td>\n",
       "      <td>0.0</td>\n",
       "      <td>0.0</td>\n",
       "      <td>0.0</td>\n",
       "      <td>1.0</td>\n",
       "    </tr>\n",
       "    <tr>\n",
       "      <th>4</th>\n",
       "      <td>16.397408</td>\n",
       "      <td>-0.173182</td>\n",
       "      <td>-0.607811</td>\n",
       "      <td>0.0</td>\n",
       "      <td>0.0</td>\n",
       "      <td>1.0</td>\n",
       "      <td>0.0</td>\n",
       "      <td>0.0</td>\n",
       "      <td>-1.0</td>\n",
       "      <td>1.0</td>\n",
       "    </tr>\n",
       "    <tr>\n",
       "      <th>...</th>\n",
       "      <td>...</td>\n",
       "      <td>...</td>\n",
       "      <td>...</td>\n",
       "      <td>...</td>\n",
       "      <td>...</td>\n",
       "      <td>...</td>\n",
       "      <td>...</td>\n",
       "      <td>...</td>\n",
       "      <td>...</td>\n",
       "      <td>...</td>\n",
       "    </tr>\n",
       "    <tr>\n",
       "      <th>123</th>\n",
       "      <td>0.000000</td>\n",
       "      <td>0.000000</td>\n",
       "      <td>0.000000</td>\n",
       "      <td>0.0</td>\n",
       "      <td>0.0</td>\n",
       "      <td>0.0</td>\n",
       "      <td>0.0</td>\n",
       "      <td>0.0</td>\n",
       "      <td>0.0</td>\n",
       "      <td>0.0</td>\n",
       "    </tr>\n",
       "    <tr>\n",
       "      <th>124</th>\n",
       "      <td>0.000000</td>\n",
       "      <td>0.000000</td>\n",
       "      <td>0.000000</td>\n",
       "      <td>0.0</td>\n",
       "      <td>0.0</td>\n",
       "      <td>0.0</td>\n",
       "      <td>0.0</td>\n",
       "      <td>0.0</td>\n",
       "      <td>0.0</td>\n",
       "      <td>0.0</td>\n",
       "    </tr>\n",
       "    <tr>\n",
       "      <th>125</th>\n",
       "      <td>0.000000</td>\n",
       "      <td>0.000000</td>\n",
       "      <td>0.000000</td>\n",
       "      <td>0.0</td>\n",
       "      <td>0.0</td>\n",
       "      <td>0.0</td>\n",
       "      <td>0.0</td>\n",
       "      <td>0.0</td>\n",
       "      <td>0.0</td>\n",
       "      <td>0.0</td>\n",
       "    </tr>\n",
       "    <tr>\n",
       "      <th>126</th>\n",
       "      <td>0.000000</td>\n",
       "      <td>0.000000</td>\n",
       "      <td>0.000000</td>\n",
       "      <td>0.0</td>\n",
       "      <td>0.0</td>\n",
       "      <td>0.0</td>\n",
       "      <td>0.0</td>\n",
       "      <td>0.0</td>\n",
       "      <td>0.0</td>\n",
       "      <td>0.0</td>\n",
       "    </tr>\n",
       "    <tr>\n",
       "      <th>127</th>\n",
       "      <td>0.000000</td>\n",
       "      <td>0.000000</td>\n",
       "      <td>0.000000</td>\n",
       "      <td>0.0</td>\n",
       "      <td>0.0</td>\n",
       "      <td>0.0</td>\n",
       "      <td>0.0</td>\n",
       "      <td>0.0</td>\n",
       "      <td>0.0</td>\n",
       "      <td>0.0</td>\n",
       "    </tr>\n",
       "  </tbody>\n",
       "</table>\n",
       "<p>128 rows × 10 columns</p>\n",
       "</div>"
      ],
      "text/plain": [
       "            pt       eta       phi  photon  neutral hadron  charged hadron   \n",
       "0    52.893391  0.235717  0.070941     0.0             1.0             0.0  \\\n",
       "1    51.133469  0.237236  0.040771     1.0             0.0             0.0   \n",
       "2    46.431629  0.257174  0.023169     0.0             0.0             1.0   \n",
       "3    25.112171  0.304080  0.047000     1.0             0.0             0.0   \n",
       "4    16.397408 -0.173182 -0.607811     0.0             0.0             1.0   \n",
       "..         ...       ...       ...     ...             ...             ...   \n",
       "123   0.000000  0.000000  0.000000     0.0             0.0             0.0   \n",
       "124   0.000000  0.000000  0.000000     0.0             0.0             0.0   \n",
       "125   0.000000  0.000000  0.000000     0.0             0.0             0.0   \n",
       "126   0.000000  0.000000  0.000000     0.0             0.0             0.0   \n",
       "127   0.000000  0.000000  0.000000     0.0             0.0             0.0   \n",
       "\n",
       "     electorn  muon  charge  mask  \n",
       "0         0.0   0.0     0.0   1.0  \n",
       "1         0.0   0.0     0.0   1.0  \n",
       "2         0.0   0.0    -1.0   1.0  \n",
       "3         0.0   0.0     0.0   1.0  \n",
       "4         0.0   0.0    -1.0   1.0  \n",
       "..        ...   ...     ...   ...  \n",
       "123       0.0   0.0     0.0   0.0  \n",
       "124       0.0   0.0     0.0   0.0  \n",
       "125       0.0   0.0     0.0   0.0  \n",
       "126       0.0   0.0     0.0   0.0  \n",
       "127       0.0   0.0     0.0   0.0  \n",
       "\n",
       "[128 rows x 10 columns]"
      ]
     },
     "execution_count": 4,
     "metadata": {},
     "output_type": "execute_result"
    }
   ],
   "source": [
    "dat = torch.cat([jets.continuous, jets.discrete, jets.mask], dim=-1)[0]\n",
    "pd.DataFrame(dat.numpy(), columns=['pt', 'eta', 'phi', 'photon', 'neutral hadron', 'charged hadron', 'electorn', 'muon', 'charge', 'mask'])\n"
   ]
  },
  {
   "cell_type": "markdown",
   "id": "001331aa",
   "metadata": {},
   "source": [
    "### plotting"
   ]
  },
  {
   "cell_type": "code",
   "execution_count": 6,
   "id": "6f02e4b8",
   "metadata": {},
   "outputs": [
    {
     "data": {
      "text/plain": [
       "(None, None)"
      ]
     },
     "execution_count": 6,
     "metadata": {},
     "output_type": "execute_result"
    },
    {
     "data": {
      "image/png": "[encoded data removed]",
      "text/plain": [
       "<Figure size 300x300 with 1 Axes>"
      ]
     },
     "metadata": {},
     "output_type": "display_data"
    },
    {
     "data": {
      "image/png": "[encoded data removed]",
      "text/plain": [
       "<Figure size 300x300 with 1 Axes>"
      ]
     },
     "metadata": {},
     "output_type": "display_data"
    }
   ],
   "source": [
    "jets.display_cloud(0), noise.display_cloud(4, scale_marker=3.0)"
   ]
  },
  {
   "cell_type": "code",
   "execution_count": 5,
   "id": "24b561ff",
   "metadata": {},
   "outputs": [
    {
     "data": {
      "image/png": "[encoded data removed]",
      "text/plain": [
       "<Figure size 700x225 with 3 Axes>"
      ]
     },
     "metadata": {},
     "output_type": "display_data"
    }
   ],
   "source": [
    "fig, ax = plt.subplots(1,3, figsize=(7,2.25))\n",
    "\n",
    "binrange, binwidth = (-5,700), 10\n",
    "jets.histplot('pt',  binwidth=binwidth, binrange=binrange, ax=ax[0], stat='density', alpha=0.5, log_scale=(False,True), label='JetClass')\n",
    "noise.histplot('pt',binwidth=binwidth, binrange=binrange, ax=ax[0], stat='density', alpha=0.5, log_scale=(False,True), label='Gauss')\n",
    "\n",
    "binrange, binwidth = (-2,2), 0.05\n",
    "jets.histplot('eta_rel',  binwidth=binwidth, binrange=binrange, ax=ax[1], stat='density', alpha=0.5,  label='JetClass')\n",
    "noise.histplot('eta_rel', binwidth=binwidth, binrange=binrange, ax=ax[1], stat='density', alpha=0.5,  label='Gauss')\n",
    "jets.histplot('phi_rel',  binwidth=binwidth, binrange=binrange, ax=ax[2], stat='density', alpha=0.5, label='JetClass')\n",
    "noise.histplot('phi_rel', binwidth=binwidth, binrange=binrange, ax=ax[2], stat='density', alpha=0.5, label='Gauss')\n",
    "ax[0].legend(fontsize=6)\n",
    "plt.tight_layout()\n",
    "plt.show()"
   ]
  },
  {
   "cell_type": "markdown",
   "id": "c0ff898e",
   "metadata": {},
   "source": [
    "### pre/post-processing checks"
   ]
  },
  {
   "cell_type": "code",
   "execution_count": 4,
   "id": "d0cccd5b",
   "metadata": {},
   "outputs": [
    {
     "data": {
      "text/plain": [
       "{'mean': [12.39120101928711, 0.00021292937162797898, 6.881651188450633e-06],\n",
       " 'std': [21.185836791992188, 0.2585392892360687, 0.2526911497116089],\n",
       " 'min': [0.07611234486103058, -3.171373128890991, -1.1424001455307007],\n",
       " 'max': [707.906494140625, 3.1564340591430664, 1.0761349201202393]}"
      ]
     },
     "execution_count": 4,
     "metadata": {},
     "output_type": "execute_result"
    }
   ],
   "source": [
    "jets.preprocess(output_continuous='standardize', \n",
    "                output_discrete='states')\n",
    "\n",
    "jets.stats"
   ]
  },
  {
   "cell_type": "code",
   "execution_count": 5,
   "id": "214db67e",
   "metadata": {},
   "outputs": [
    {
     "data": {
      "text/plain": [
       "(torch.Size([100000, 128, 3]), torch.Size([100000, 128, 1]))"
      ]
     },
     "execution_count": 5,
     "metadata": {},
     "output_type": "execute_result"
    }
   ],
   "source": [
    "jets.continuous.shape, jets.mask.shape"
   ]
  },
  {
   "cell_type": "code",
   "execution_count": 7,
   "id": "f185c2ed",
   "metadata": {},
   "outputs": [
    {
     "data": {
      "text/plain": [
       "tensor([[ 1.9118,  0.9109,  0.2807,  1.0000,  1.0000],\n",
       "        [ 1.8287,  0.9168,  0.1613,  0.0000,  1.0000],\n",
       "        [ 1.6068,  0.9939,  0.0917,  2.0000,  1.0000],\n",
       "        [ 0.6004,  1.1753,  0.1860,  0.0000,  1.0000],\n",
       "        [ 0.1891, -0.6707, -2.4054,  2.0000,  1.0000]])"
      ]
     },
     "execution_count": 7,
     "metadata": {},
     "output_type": "execute_result"
    }
   ],
   "source": [
    "torch.cat([jets.continuous, jets.discrete, jets.mask], dim=-1)[0][:5]"
   ]
  },
  {
   "cell_type": "code",
   "execution_count": 8,
   "id": "167ce444",
   "metadata": {},
   "outputs": [],
   "source": [
    "jets.postprocess(input_continuous='standardize', \n",
    "                 input_discrete='states')"
   ]
  },
  {
   "cell_type": "code",
   "execution_count": 9,
   "id": "a371d511",
   "metadata": {},
   "outputs": [
    {
     "data": {
      "text/plain": [
       "tensor([[ 5.2893e+01,  2.3572e-01,  7.0941e-02,  0.0000e+00,  1.0000e+00,\n",
       "          0.0000e+00,  0.0000e+00,  0.0000e+00,  0.0000e+00,  1.0000e+00],\n",
       "        [ 5.1133e+01,  2.3724e-01,  4.0771e-02,  1.0000e+00,  0.0000e+00,\n",
       "          0.0000e+00,  0.0000e+00,  0.0000e+00,  0.0000e+00,  1.0000e+00],\n",
       "        [ 4.6432e+01,  2.5717e-01,  2.3169e-02,  0.0000e+00,  0.0000e+00,\n",
       "          1.0000e+00,  0.0000e+00,  0.0000e+00, -1.0000e+00,  1.0000e+00],\n",
       "        [ 2.5112e+01,  3.0408e-01,  4.7000e-02,  1.0000e+00,  0.0000e+00,\n",
       "          0.0000e+00,  0.0000e+00,  0.0000e+00,  0.0000e+00,  1.0000e+00],\n",
       "        [ 1.6397e+01, -1.7318e-01, -6.0781e-01,  0.0000e+00,  0.0000e+00,\n",
       "          1.0000e+00,  0.0000e+00,  0.0000e+00, -1.0000e+00,  1.0000e+00]])"
      ]
     },
     "execution_count": 9,
     "metadata": {},
     "output_type": "execute_result"
    }
   ],
   "source": [
    "torch.cat([jets.continuous, jets.discrete, jets.mask], dim=-1)[0][:5]"
   ]
  },
  {
   "cell_type": "code",
   "execution_count": 5,
   "id": "cec7fe21",
   "metadata": {},
   "outputs": [
    {
     "data": {
      "text/plain": [
       "{'mean': [12.39120101928711,\n",
       "  0.00021292937162797898,\n",
       "  6.881651188450633e-06,\n",
       "  0.41356632113456726,\n",
       "  0.10945022106170654,\n",
       "  0.2323295623064041,\n",
       "  0.23220109939575195,\n",
       "  0.0038296147249639034,\n",
       "  0.003814270254224539,\n",
       "  0.002407107735052705,\n",
       "  0.002401796169579029],\n",
       " 'std': [21.185836791992188,\n",
       "  0.2585392892360687,\n",
       "  0.2526911497116089,\n",
       "  0.4924726188182831,\n",
       "  0.3122032880783081,\n",
       "  0.42231810092926025,\n",
       "  0.4222366511821747,\n",
       "  0.06176527589559555,\n",
       "  0.061641886830329895,\n",
       "  0.049003202468156815,\n",
       "  0.048949237912893295],\n",
       " 'min': [0.07611234486103058,\n",
       "  -3.171373128890991,\n",
       "  -1.1424001455307007,\n",
       "  0.0,\n",
       "  0.0,\n",
       "  0.0,\n",
       "  0.0,\n",
       "  0.0,\n",
       "  0.0,\n",
       "  0.0,\n",
       "  0.0],\n",
       " 'max': [707.906494140625,\n",
       "  3.1564340591430664,\n",
       "  1.0761349201202393,\n",
       "  1.0,\n",
       "  1.0,\n",
       "  1.0,\n",
       "  1.0,\n",
       "  1.0,\n",
       "  1.0,\n",
       "  1.0,\n",
       "  1.0]}"
      ]
     },
     "execution_count": 5,
     "metadata": {},
     "output_type": "execute_result"
    }
   ],
   "source": [
    "jets.preprocess(output_continuous='standardize', \n",
    "                output_discrete='onehot_dequantize')\n",
    "\n",
    "jets.stats"
   ]
  },
  {
   "cell_type": "code",
   "execution_count": 7,
   "id": "0b1736cc",
   "metadata": {},
   "outputs": [
    {
     "data": {
      "text/plain": [
       "(torch.Size([100000, 128, 11]), torch.Size([100000, 128, 1]))"
      ]
     },
     "execution_count": 7,
     "metadata": {},
     "output_type": "execute_result"
    }
   ],
   "source": [
    "jets.continuous.shape, jets.mask.shape"
   ]
  },
  {
   "cell_type": "code",
   "execution_count": 8,
   "id": "4e654add",
   "metadata": {},
   "outputs": [
    {
     "data": {
      "text/plain": [
       "tensor([[ 1.9118,  0.9109,  0.2807, -0.8398,  2.8525, -0.5501, -0.5499, -0.0620,\n",
       "         -0.0619, -0.0491, -0.0491,  1.0000],\n",
       "        [ 1.8287,  0.9168,  0.1613,  1.1908, -0.3506, -0.5501, -0.5499, -0.0620,\n",
       "         -0.0619, -0.0491, -0.0491,  1.0000],\n",
       "        [ 1.6068,  0.9939,  0.0917, -0.8398, -0.3506,  1.8178, -0.5499, -0.0620,\n",
       "         -0.0619, -0.0491, -0.0491,  1.0000],\n",
       "        [ 0.6004,  1.1753,  0.1860,  1.1908, -0.3506, -0.5501, -0.5499, -0.0620,\n",
       "         -0.0619, -0.0491, -0.0491,  1.0000],\n",
       "        [ 0.1891, -0.6707, -2.4054, -0.8398, -0.3506,  1.8178, -0.5499, -0.0620,\n",
       "         -0.0619, -0.0491, -0.0491,  1.0000]])"
      ]
     },
     "execution_count": 8,
     "metadata": {},
     "output_type": "execute_result"
    }
   ],
   "source": [
    "torch.cat([jets.continuous, jets.mask], dim=-1)[0][:5]"
   ]
  },
  {
   "cell_type": "code",
   "execution_count": 9,
   "id": "99e14e77",
   "metadata": {},
   "outputs": [],
   "source": [
    "jets.postprocess(input_continuous='standardize', \n",
    "                 input_discrete='onehot_dequantize')"
   ]
  },
  {
   "cell_type": "code",
   "execution_count": 10,
   "id": "17e09100",
   "metadata": {},
   "outputs": [
    {
     "data": {
      "text/plain": [
       "tensor([[ 5.2893e+01,  2.3572e-01,  7.0941e-02,  0.0000e+00,  1.0000e+00,\n",
       "          0.0000e+00,  0.0000e+00,  0.0000e+00,  0.0000e+00,  1.0000e+00],\n",
       "        [ 5.1133e+01,  2.3724e-01,  4.0771e-02,  1.0000e+00,  0.0000e+00,\n",
       "          0.0000e+00,  0.0000e+00,  0.0000e+00,  0.0000e+00,  1.0000e+00],\n",
       "        [ 4.6432e+01,  2.5717e-01,  2.3169e-02,  0.0000e+00,  0.0000e+00,\n",
       "          1.0000e+00,  0.0000e+00,  0.0000e+00, -1.0000e+00,  1.0000e+00],\n",
       "        [ 2.5112e+01,  3.0408e-01,  4.7000e-02,  1.0000e+00,  0.0000e+00,\n",
       "          0.0000e+00,  0.0000e+00,  0.0000e+00,  0.0000e+00,  1.0000e+00],\n",
       "        [ 1.6397e+01, -1.7318e-01, -6.0781e-01,  0.0000e+00,  0.0000e+00,\n",
       "          1.0000e+00,  0.0000e+00,  0.0000e+00, -1.0000e+00,  1.0000e+00]])"
      ]
     },
     "execution_count": 10,
     "metadata": {},
     "output_type": "execute_result"
    }
   ],
   "source": [
    "torch.cat([jets.continuous, jets.discrete, jets.mask], dim=-1)[0][:5]"
   ]
  },
  {
   "cell_type": "code",
   "execution_count": 10,
   "id": "d88d65f3",
   "metadata": {},
   "outputs": [
    {
     "data": {
      "text/plain": [
       "tensor([[ 5.2893e+01,  2.3572e-01,  7.0941e-02,  0.0000e+00,  1.0000e+00,\n",
       "          0.0000e+00,  0.0000e+00,  0.0000e+00,  0.0000e+00],\n",
       "        [ 5.1133e+01,  2.3724e-01,  4.0771e-02,  1.0000e+00,  0.0000e+00,\n",
       "          0.0000e+00,  0.0000e+00,  0.0000e+00,  0.0000e+00],\n",
       "        [ 4.6432e+01,  2.5717e-01,  2.3169e-02,  0.0000e+00,  0.0000e+00,\n",
       "          1.0000e+00,  0.0000e+00,  0.0000e+00, -1.0000e+00],\n",
       "        [ 2.5112e+01,  3.0408e-01,  4.7000e-02,  1.0000e+00,  0.0000e+00,\n",
       "          0.0000e+00,  0.0000e+00,  0.0000e+00,  0.0000e+00],\n",
       "        [ 1.6397e+01, -1.7318e-01, -6.0781e-01,  0.0000e+00,  0.0000e+00,\n",
       "          1.0000e+00,  0.0000e+00,  0.0000e+00, -1.0000e+00],\n",
       "        [ 1.5749e+01,  2.6327e-01,  1.9927e-03,  0.0000e+00,  0.0000e+00,\n",
       "          1.0000e+00,  0.0000e+00,  0.0000e+00,  1.0000e+00],\n",
       "        [ 1.3766e+01, -3.7694e-01,  1.8052e-01,  0.0000e+00,  0.0000e+00,\n",
       "          1.0000e+00,  0.0000e+00,  0.0000e+00,  1.0000e+00],\n",
       "        [ 1.2795e+01, -1.5121e-01, -7.1309e-01,  0.0000e+00,  0.0000e+00,\n",
       "          1.0000e+00,  0.0000e+00,  0.0000e+00,  1.0000e+00],\n",
       "        [ 1.2712e+01,  2.4882e-01,  3.0482e-02,  1.0000e+00,  0.0000e+00,\n",
       "          0.0000e+00,  0.0000e+00,  0.0000e+00,  0.0000e+00],\n",
       "        [ 1.2455e+01,  2.7186e-01,  2.0742e-02,  1.0000e+00,  0.0000e+00,\n",
       "          0.0000e+00,  0.0000e+00,  0.0000e+00,  0.0000e+00],\n",
       "        [ 1.2181e+01, -4.3373e-01,  2.6081e-01,  0.0000e+00,  0.0000e+00,\n",
       "          1.0000e+00,  0.0000e+00,  0.0000e+00, -1.0000e+00],\n",
       "        [ 1.1956e+01,  2.7666e-01,  2.6413e-02,  0.0000e+00,  0.0000e+00,\n",
       "          1.0000e+00,  0.0000e+00,  0.0000e+00, -1.0000e+00],\n",
       "        [ 1.1918e+01,  2.5815e-01,  1.3955e-01,  0.0000e+00,  1.0000e+00,\n",
       "          0.0000e+00,  0.0000e+00,  0.0000e+00,  0.0000e+00],\n",
       "        [ 1.1787e+01,  2.6798e-01,  2.7687e-02,  0.0000e+00,  0.0000e+00,\n",
       "          1.0000e+00,  0.0000e+00,  0.0000e+00, -1.0000e+00],\n",
       "        [ 1.1647e+01, -6.7465e-02, -1.1691e-01,  0.0000e+00,  0.0000e+00,\n",
       "          1.0000e+00,  0.0000e+00,  0.0000e+00, -1.0000e+00],\n",
       "        [ 9.7864e+00,  2.4268e-01,  3.8670e-02,  0.0000e+00,  0.0000e+00,\n",
       "          1.0000e+00,  0.0000e+00,  0.0000e+00,  1.0000e+00],\n",
       "        [ 9.6511e+00, -3.6956e-01,  1.5580e-01,  0.0000e+00,  0.0000e+00,\n",
       "          1.0000e+00,  0.0000e+00,  0.0000e+00, -1.0000e+00],\n",
       "        [ 9.5016e+00,  2.4999e-01,  2.9732e-02,  0.0000e+00,  0.0000e+00,\n",
       "          1.0000e+00,  0.0000e+00,  0.0000e+00,  1.0000e+00],\n",
       "        [ 7.8837e+00,  4.1444e-02,  7.6970e-01,  1.0000e+00,  0.0000e+00,\n",
       "          0.0000e+00,  0.0000e+00,  0.0000e+00,  0.0000e+00],\n",
       "        [ 7.1785e+00, -8.0965e-02, -4.3831e-01,  0.0000e+00,  0.0000e+00,\n",
       "          1.0000e+00,  0.0000e+00,  0.0000e+00, -1.0000e+00]])"
      ]
     },
     "execution_count": 10,
     "metadata": {},
     "output_type": "execute_result"
    }
   ],
   "source": [
    "torch.cat([jets.continuous, jets.discrete], dim=-1)[0, :20]"
   ]
  },
  {
   "cell_type": "code",
   "execution_count": null,
   "id": "1072e1e8",
   "metadata": {},
   "outputs": [],
   "source": []
  },
  {
   "cell_type": "markdown",
   "id": "691508b2",
   "metadata": {},
   "source": [
    "### jet dataclass"
   ]
  },
  {
   "cell_type": "code",
   "execution_count": 3,
   "id": "5e2f1078",
   "metadata": {},
   "outputs": [
    {
     "name": "stdout",
     "output_type": "stream",
     "text": [
      "INFO: created experiment instance GaussNoise_to_JetClass_FlowMatching_TelegraphProcess_HybridEPiC_2024.10.11_15h35_7700\n",
      "target:\n",
      "    name: JetClass\n",
      "    tag: tbqq\n",
      "    train_path: ['/home/df630/CMB/data/JetClass/TTBar_000.root', '/home/df630/CMB/data/JetClass/TTBar_001.root', '/home/df630/CMB/data/JetClass/TTBar_002.root']\n",
      "    test_path: ['/home/df630/CMB/data/JetClass/TTBar_003.root']\n",
      "    params:\n",
      "        min_num_particles: 0\n",
      "        max_num_particles: 128\n",
      "source:\n",
      "    name: GaussNoise\n",
      "    params:\n",
      "        scale: 1.0\n",
      "        min_num_particles: 0\n",
      "        max_num_particles: 128\n",
      "dim:\n",
      "    features:\n",
      "        continuous: 3\n",
      "        discrete: 1\n",
      "    context:\n",
      "        continuous: 0\n",
      "        discrete: 0\n",
      "vocab:\n",
      "    size:\n",
      "        features: 8\n",
      "        context: 0\n",
      "preprocess:\n",
      "    continuous: standardize\n",
      "    discrete: states\n"
     ]
    }
   ],
   "source": [
    "from cmb.configs.utils import Configs\n",
    "\n",
    "config = Configs('epic_hybrid.yaml') \n",
    "config.data.print()"
   ]
  },
  {
   "cell_type": "code",
   "execution_count": 11,
   "id": "79fe40c4",
   "metadata": {},
   "outputs": [],
   "source": [
    "class JetsClassData:\n",
    "    ''' class that prepares the source-target coupling\n",
    "    '''\n",
    "    def __init__(self, config, task):\n",
    "        assert task=='train' or task=='test', 'Please specify downstream task: `train`, `test`'\n",
    "        param_target = config.target.params.to_dict()\n",
    "        param_source = config.source.params.to_dict()\n",
    "        \n",
    "        #...target:\n",
    "\n",
    "        self.target = ParticleClouds(dataset=config.target.name,\n",
    "                                     data_paths=getattr(config.target, 'train_path', None) if task == 'train' else getattr(config.target, 'test_path', None),\n",
    "                                     **param_target)\n",
    "\n",
    "        #... noise source:\n",
    "        \n",
    "        param_source['set_masks_like'] = self.target.multiplicity \n",
    "        param_source['num_jets'] = len(self.target)\n",
    "        self.source = ParticleClouds(dataset=config.source.name,\n",
    "                                     data_paths=getattr(config.source, 'train_path', None) if task == 'train' else getattr(config.source, 'test_path', None),\n",
    "                                     **param_source)\n",
    "            \n"
   ]
  },
  {
   "cell_type": "code",
   "execution_count": 12,
   "id": "7a70683d",
   "metadata": {},
   "outputs": [
    {
     "name": "stderr",
     "output_type": "stream",
     "text": [
      "/home/df630/CMB/src/cmb/datasets/utils.py:109: UserWarning: To copy construct from a tensor, it is recommended to use sourceTensor.clone().detach() or sourceTensor.clone().detach().requires_grad_(True), rather than torch.tensor(sourceTensor).\n",
      "  discrete = torch.tensor(discrete).long()\n"
     ]
    }
   ],
   "source": [
    "jets = JetsClassData(config.data, 'train')"
   ]
  },
  {
   "cell_type": "code",
   "execution_count": 7,
   "id": "1c0df925",
   "metadata": {},
   "outputs": [
    {
     "data": {
      "text/plain": [
       "(None, None)"
      ]
     },
     "execution_count": 7,
     "metadata": {},
     "output_type": "execute_result"
    },
    {
     "data": {
      "image/png": "[encoded data removed]",
      "text/plain": [
       "<Figure size 300x300 with 1 Axes>"
      ]
     },
     "metadata": {},
     "output_type": "display_data"
    },
    {
     "data": {
      "image/png": "[encoded data removed]",
      "text/plain": [
       "<Figure size 300x300 with 1 Axes>"
      ]
     },
     "metadata": {},
     "output_type": "display_data"
    }
   ],
   "source": [
    "jets.target.display_cloud(0), jets.source.display_cloud(0)"
   ]
  },
  {
   "cell_type": "code",
   "execution_count": 22,
   "id": "129f318f",
   "metadata": {},
   "outputs": [
    {
     "data": {
      "image/png": "[encoded data removed]",
      "text/plain": [
       "<Figure size 300x300 with 1 Axes>"
      ]
     },
     "metadata": {},
     "output_type": "display_data"
    }
   ],
   "source": [
    "jets.target.histplot('pt',  binwidth=10, binrange=(-5,700), stat='density', alpha=0.5, log_scale=(False,True), label='JetClass')"
   ]
  },
  {
   "cell_type": "code",
   "execution_count": 13,
   "id": "95d6d453",
   "metadata": {},
   "outputs": [
    {
     "data": {
      "text/plain": [
       "(300000, 300000)"
      ]
     },
     "execution_count": 13,
     "metadata": {},
     "output_type": "execute_result"
    }
   ],
   "source": [
    "len(jets.target), len(jets.source)"
   ]
  },
  {
   "cell_type": "code",
   "execution_count": null,
   "id": "312fc000",
   "metadata": {},
   "outputs": [],
   "source": []
  },
  {
   "cell_type": "markdown",
   "id": "085165a9",
   "metadata": {},
   "source": [
    "### High-Level Features"
   ]
  },
  {
   "cell_type": "code",
   "execution_count": 20,
   "id": "23584251",
   "metadata": {},
   "outputs": [],
   "source": [
    "import numpy as np\n",
    "import torch\n",
    "import awkward as ak\n",
    "import fastjet\n",
    "import seaborn as sns\n",
    "import scipy\n",
    "import matplotlib.pyplot as plt\n",
    "\n",
    "class JetClassHighLevelFeatures:\n",
    "    def __init__(self, constituents: ParticleClouds):\n",
    "\n",
    "        self.constituents = constituents\n",
    "\n",
    "        #...compute jet kinematics:\n",
    "        self.constituents.compute_4mom()\n",
    "        self.px = self.constituents.px.sum(axis=-1)\n",
    "        self.py = self.constituents.py.sum(axis=-1)\n",
    "        self.pz = self.constituents.pz.sum(axis=-1)\n",
    "        self.e = self.constituents.e.sum(axis=-1)\n",
    "        self.pt = torch.clamp_min(self.px**2 + self.py**2, 0).sqrt()\n",
    "        self.m = torch.clamp_min(self.e**2 - self.px**2 - self.py**2 - self.pz**2, 0).sqrt()\n",
    "        self.eta = 0.5 * torch.log((self.pt + self.pz) / (self.pt - self.pz))\n",
    "        self.phi = torch.atan2(self.py, self.px)\n",
    "\n",
    "        # discrete jet features\n",
    "        self.Q_total = self.jet_charge(kappa=0.0)\n",
    "        self.Q_jet = self.jet_charge(kappa=1.0)\n",
    "        self.multiplicity = torch.sum(self.constituents.mask, dim=1)\n",
    "\n",
    "        #...subsstructure\n",
    "        self.R = 0.8\n",
    "        self.beta = 1.0\n",
    "        self.use_wta_scheme = False\n",
    "        self.substructure()\n",
    "\n",
    "    def histplot(self, features='pt', xlim=None, ylim=None, xlabel=None, ylabel=None, figsize=(3,3), ax=None, **kwargs):\n",
    "        x = getattr(self, features)\n",
    "        if isinstance(x, torch.Tensor): x.cpu().numpy()\n",
    "        if ax is None: \n",
    "            _, ax = plt.subplots(figsize=figsize)   \n",
    "        sns.histplot(x=x, element=\"step\", ax=ax, **kwargs) \n",
    "        ax.set_xlabel(features if xlabel is None else xlabel)\n",
    "        ax.set_ylabel(ylabel)\n",
    "        ax.set_xlim(xlim)\n",
    "        ax.set_ylim(ylim)\n",
    "\n",
    "    def jet_charge(self, kappa):\n",
    "        ''' jet charge defined as Q_j^kappa = Sum_i Q_i * (pT_i / pT_jet)^kappa\n",
    "        '''\n",
    "        Qjet = self.constituents.charge * (self.constituents.pt)**kappa\n",
    "        return Qjet.sum(axis=1) / (self.pt**kappa) \n",
    "    \n",
    "    def histplot_multiplicities(self, state=None, xlim=None, ylim=None, xlabel=None, ylabel=None, figsize=(3,3), ax=None, **kwargs):\n",
    "        if state is not None:\n",
    "            if isinstance(state, int):\n",
    "                state = [state]\n",
    "            multiplicity = torch.zeros(self.constituents.discrete.shape[0], 1)\n",
    "            for s in state:\n",
    "                x = (torch.argmax(self.constituents.discrete, dim=-1).unsqueeze(-1) == s) * self.constituents.mask\n",
    "                multiplicity += x.sum(dim=1)\n",
    "        else:\n",
    "            multiplicity = self.multiplicity\n",
    "\n",
    "        if ax is None: \n",
    "            _, ax = plt.subplots(figsize=figsize)   \n",
    "        sns.histplot(x=multiplicity.squeeze(-1), element=\"step\", ax=ax, discrete=True, **kwargs) \n",
    "        ax.set_xlabel(xlabel)\n",
    "        ax.set_ylabel(ylabel)\n",
    "        ax.set_xlim(xlim)\n",
    "        ax.set_ylim(ylim)\n",
    "\n",
    "    def flavor_fractions(self, figsize=(3,3), ax=None, **kwargs):\n",
    "        if ax is None: \n",
    "            _, ax = plt.subplots(figsize=figsize)                                          \n",
    "        sns.histplot(self.constituents.discrete[self.constituents.mask].squeeze(), binrange=(-0.1, 7.1), element=\"step\", ax=ax, discrete=True, **kwargs)\n",
    "        ax.legend(loc='upper right', fontsize=7)\n",
    "        ax.set_xlabel('Particle flavor')\n",
    "        ax.set_xticks(np.arange(8))\n",
    "        ax.set_xticklabels([r'$\\gamma$', r'$h^0$', r'$h^-$', r'$h^+$', r'$e^-$', r'$e^+$', r'$\\mu^-$', r'$\\mu^+$'])\n",
    "\n",
    "    def substructure(self):\n",
    "        constituents_ak = ak.zip({ \"pt\": np.array(self.constituents.pt),\n",
    "                                   \"eta\": np.array(self.constituents.eta_rel),\n",
    "                                   \"phi\": np.array(self.constituents.phi_rel),\n",
    "                                   \"mass\": np.zeros_like(np.array(self.constituents.pt))\n",
    "                                   },\n",
    "                                  with_name=\"Momentum4D\")\n",
    "\n",
    "        constituents_ak = ak.mask(constituents_ak, constituents_ak.pt > 0)\n",
    "        constituents_ak = ak.drop_none(constituents_ak)\n",
    "        self.constituents_ak = constituents_ak[ak.num(constituents_ak) >= 3]\n",
    "        if self.use_wta_scheme:\n",
    "            jetdef = fastjet.JetDefinition(fastjet.kt_algorithm, self.R, fastjet.WTA_pt_scheme)\n",
    "        else:\n",
    "            jetdef = fastjet.JetDefinition(fastjet.kt_algorithm, self.R)\n",
    "        print(\"Clustering jets with fastjet\")\n",
    "        print(\"Jet definition:\", jetdef)\n",
    "        self.cluster = fastjet.ClusterSequence(constituents_ak, jetdef)\n",
    "        self.inclusive_jets = self.cluster.inclusive_jets()\n",
    "        self.exclusive_jets_1 = self.cluster.exclusive_jets(n_jets=1)\n",
    "        self.exclusive_jets_2 = self.cluster.exclusive_jets(n_jets=2)\n",
    "        self.exclusive_jets_3 = self.cluster.exclusive_jets(n_jets=3)\n",
    "        print(\"Calculating N-subjettiness\")\n",
    "        self._calc_d0()\n",
    "        self._calc_tau1()\n",
    "        self._calc_tau2()\n",
    "        self._calc_tau3()\n",
    "        self.tau21 = np.ma.divide(self.tau2, self.tau1)\n",
    "        self.tau32 = np.ma.divide(self.tau3, self.tau2)\n",
    "        print(\"Calculating D2\")\n",
    "        # D2 as defined in https://arxiv.org/pdf/1409.6298.pdf\n",
    "        self.d2 = self.cluster.exclusive_jets_energy_correlator(njets=1, func=\"d2\")\n",
    "\n",
    "    def _calc_deltaR(self, particles, jet):\n",
    "        jet = ak.unflatten(ak.flatten(jet), counts=1)\n",
    "        return particles.deltaR(jet)\n",
    "\n",
    "    def _calc_d0(self):\n",
    "        \"\"\"Calculate the d0 values.\"\"\"\n",
    "        self.d0 = ak.sum(self.constituents_ak.pt * self.R**self.beta, axis=1)\n",
    "\n",
    "    def _calc_tau1(self):\n",
    "        \"\"\"Calculate the tau1 values.\"\"\"\n",
    "        self.delta_r_1i = self._calc_deltaR(self.constituents_ak, self.exclusive_jets_1[:, :1])\n",
    "        self.pt_i = self.constituents_ak.pt\n",
    "        self.tau1 = ak.sum(self.pt_i * self.delta_r_1i**self.beta, axis=1) / self.d0\n",
    "\n",
    "    def _calc_tau2(self):\n",
    "        \"\"\"Calculate the tau2 values.\"\"\"\n",
    "        delta_r_1i = self._calc_deltaR(self.constituents_ak, self.exclusive_jets_2[:, :1])\n",
    "        delta_r_2i = self._calc_deltaR(self.constituents_ak, self.exclusive_jets_2[:, 1:2])\n",
    "        self.pt_i = self.constituents_ak.pt\n",
    "        # add new axis to make it broadcastable\n",
    "        min_delta_r = ak.min(\n",
    "            ak.concatenate(\n",
    "                [\n",
    "                    delta_r_1i[..., np.newaxis] ** self.beta,\n",
    "                    delta_r_2i[..., np.newaxis] ** self.beta,\n",
    "                ],\n",
    "                axis=-1,\n",
    "            ),\n",
    "            axis=-1,\n",
    "        )\n",
    "        self.tau2 = ak.sum(self.pt_i * min_delta_r, axis=1) / self.d0\n",
    "\n",
    "    def _calc_tau3(self):\n",
    "        \"\"\"Calculate the tau3 values.\"\"\"\n",
    "        delta_r_1i = self._calc_deltaR(self.constituents_ak, self.exclusive_jets_3[:, :1])\n",
    "        delta_r_2i = self._calc_deltaR(self.constituents_ak, self.exclusive_jets_3[:, 1:2])\n",
    "        delta_r_3i = self._calc_deltaR(self.constituents_ak, self.exclusive_jets_3[:, 2:3])\n",
    "        self.pt_i = self.constituents_ak.pt\n",
    "        min_delta_r = ak.min(\n",
    "            ak.concatenate(\n",
    "                [\n",
    "                    delta_r_1i[..., np.newaxis] ** self.beta,\n",
    "                    delta_r_2i[..., np.newaxis] ** self.beta,\n",
    "                    delta_r_3i[..., np.newaxis] ** self.beta,\n",
    "                ],\n",
    "                axis=-1,\n",
    "            ),\n",
    "            axis=-1,\n",
    "        )\n",
    "        self.tau3 = ak.sum(self.pt_i * min_delta_r, axis=1) / self.d0\n",
    "\n",
    "    def histogram(self, features='pt', density=True, num_bins=100, use_quantiles=False):\n",
    "        x = getattr(self, features)\n",
    "        bins = np.quantile(x, np.linspace(0.001, 0.999, num_bins)) if use_quantiles else num_bins\n",
    "        return np.histogram(x, density=density, bins=bins)[0]\n",
    "\n",
    "    def KLmetric1D(self, feature, reference, num_bins=100, use_quantiles=True):\n",
    "        h1 = self.histogram(feature, density=True, num_bins=num_bins, use_quantiles=use_quantiles) + 1e-8\n",
    "        h2 = reference.histogram(feature, density=True, num_bins=num_bins, use_quantiles=use_quantiles) + 1e-8\n",
    "        return scipy.stats.entropy(h1, h2)  \n",
    "\n",
    "    def Wassertein1D(self, feature, reference):\n",
    "        x = getattr(self, feature)\n",
    "        y = getattr(reference, feature)\n",
    "        return scipy.stats.wasserstein_distance(x, y)\n",
    "            \n",
    "\n"
   ]
  },
  {
   "cell_type": "code",
   "execution_count": 21,
   "id": "16f3e68a",
   "metadata": {},
   "outputs": [
    {
     "name": "stdout",
     "output_type": "stream",
     "text": [
      "Clustering jets with fastjet\n",
      "Jet definition: Longitudinally invariant kt algorithm with R = 0.8 and E scheme recombination\n"
     ]
    },
    {
     "name": "stderr",
     "output_type": "stream",
     "text": [
      "UserWarning: dcut and exclusive jets for jet-finders other than kt, C/A or genkt with p>=0 should be interpreted with care.\n"
     ]
    },
    {
     "name": "stdout",
     "output_type": "stream",
     "text": [
      "Calculating N-subjettiness\n",
      "Calculating D2\n"
     ]
    }
   ],
   "source": [
    "data = JetClassHighLevelFeatures(jets)"
   ]
  },
  {
   "cell_type": "code",
   "execution_count": 18,
   "id": "02e5efea",
   "metadata": {},
   "outputs": [
    {
     "data": {
      "image/png": "[encoded data removed]",
      "text/plain": [
       "<Figure size 300x300 with 1 Axes>"
      ]
     },
     "metadata": {},
     "output_type": "display_data"
    }
   ],
   "source": [
    "data.histplot('tau32', stat='density', alpha=0.5)"
   ]
  },
  {
   "cell_type": "code",
   "execution_count": 16,
   "id": "1b82bd98",
   "metadata": {},
   "outputs": [
    {
     "data": {
      "image/png": "[encoded data removed]",
      "text/plain": [
       "<Figure size 300x300 with 1 Axes>"
      ]
     },
     "metadata": {},
     "output_type": "display_data"
    }
   ],
   "source": [
    "data.histplot('Q_total', discrete=True, stat='density', alpha=0.5)"
   ]
  },
  {
   "cell_type": "code",
   "execution_count": 19,
   "id": "667f54e9",
   "metadata": {},
   "outputs": [
    {
     "data": {
      "image/png": "[encoded data removed]",
      "text/plain": [
       "<Figure size 300x300 with 1 Axes>"
      ]
     },
     "metadata": {},
     "output_type": "display_data"
    }
   ],
   "source": [
    "data.histplot('Q_jet', stat='density', alpha=0.5)"
   ]
  },
  {
   "cell_type": "code",
   "execution_count": 33,
   "id": "6f31c800",
   "metadata": {},
   "outputs": [
    {
     "data": {
      "image/png": "[encoded data removed]",
      "text/plain": [
       "<Figure size 200x200 with 1 Axes>"
      ]
     },
     "metadata": {},
     "output_type": "display_data"
    }
   ],
   "source": [
    "_, ax = plt.subplots(1,1, figsize=(2,2))\n",
    "data.histplot_multiplicities(state=[2,3,4], ax=ax)\n",
    "data.histplot_multiplicities(state=[0,1], ax=ax)\n"
   ]
  },
  {
   "cell_type": "code",
   "execution_count": 35,
   "id": "8d0ce016",
   "metadata": {},
   "outputs": [
    {
     "data": {
      "image/png": "[encoded data removed]",
      "text/plain": [
       "<Figure size 1500x1200 with 16 Axes>"
      ]
     },
     "metadata": {},
     "output_type": "display_data"
    }
   ],
   "source": [
    "import matplotlib.pyplot as plt\n",
    "import seaborn as sns\n",
    "import numpy as np\n",
    "\n",
    "_, ax = plt.subplots(4,4,figsize=(15,12))\n",
    "\n",
    "arg_test = dict(stat='density', fill=True, alpha=0.8, log_scale=(False, False), color='silver', lw=0.25, label='tbqq JetClass')\n",
    "arg_gen = dict(stat='density', fill=False,log_scale=(False, False), color='crimson', lw=1.25,  label='CMB')\n",
    "arg_test_log = dict(stat='density', fill=True, alpha=0.8, log_scale=(False, True), color='silver', lw=0.25, label='tbqq JetClass')\n",
    "arg_gen_log = dict(stat='density', fill=False,log_scale=(False, True), color='crimson', lw=1.25,  label='CMB')\n",
    "\n",
    "\n",
    "binrange, binwidth = (0, 500), 5\n",
    "data.constituents.histplot('pt', binrange=binrange, binwidth=binwidth, xlabel=r'particle $p_t^{\\rm rel}$', ax=ax[0,0], **arg_test_log)\n",
    "\n",
    "binrange, binwidth = (-2, 2), 0.04\n",
    "data.constituents.histplot('eta_rel',  binrange=binrange, binwidth=binwidth, xlabel=r'particle $\\Delta \\eta$', ax=ax[0,1], **arg_test_log)\n",
    "\n",
    "binrange, binwidth = (-2, 2), 0.04\n",
    "data.constituents.histplot('phi_rel', binrange=binrange, binwidth=binwidth, xlabel=r'particle $\\Delta \\phi$', ax=ax[0,2], **arg_test_log)\n",
    "\n",
    "\n",
    "data.histplot_multiplicities(xlabel='jet multiplicity', ax=ax[0,3], **arg_test)\n",
    "\n",
    "# ------------------------------\n",
    "\n",
    "binrange, binwidth = (450, 1100), 10\n",
    "data.histplot('pt',  xlabel=r'jet $p_T$ [GeV]', ylabel='density', ax=ax[1,0], binrange=binrange, binwidth=binwidth, **arg_test)\n",
    "\n",
    "binrange, binwidth = (0, 500), 5\n",
    "data.histplot('m',  xlabel=r'jet mass [GeV]', ax=ax[1,1], binrange=binrange, binwidth=binwidth, **arg_test)\n",
    "\n",
    "binrange, binwidth, ylim = (0, 1.1), 0.025, (0, 4.0)\n",
    "data.histplot('tau21',  xlabel=r'$\\tau_{21}$', ylabel='density', ax=ax[1,2], binrange=binrange, binwidth=binwidth, **arg_test)\n",
    "\n",
    "data.histplot('tau32',  xlabel=r'$\\tau_{32}$', ax=ax[1,3], binrange=binrange, binwidth=binwidth, **arg_test)\n",
    "\n",
    "\n",
    "# ------------------------------\n",
    "\n",
    "binrange, binwidth, ylim = (0, 3.0), 0.03, (0, 2.0)\n",
    "data.histplot('d2',  xlabel=r'$D_2$', ylabel='density', ax=ax[2,0], binrange=binrange, binwidth=binwidth, **arg_test)\n",
    "\n",
    "xlim, ylim = (-20, 20), (0, 0.2)\n",
    "data.histplot('Q_total', xlabel=r'$Q_{\\rm jet}^{\\kappa=0}$',  discrete=True, ax=ax[2,1], **arg_test)\n",
    "\n",
    "binrange, binwidth, ylim = (-1, 1), 0.03, (0.0, 4.0)\n",
    "data.histplot('Q_jet', xlabel=r'$Q_{\\rm jet}^{\\kappa=1}$', binrange=binrange, binwidth=binwidth , ax=ax[2,2], **arg_test)\n",
    "\n",
    "xlim, ylim = (0, 70), (0, 0.08)\n",
    "data.histplot_multiplicities(state=[2,3,4], xlabel='charged multiplicity', ax=ax[2,3], **arg_test)\n",
    "\n",
    "xlim, ylim = (0, 70), (0, 0.08)\n",
    "data.histplot_multiplicities(state=[0,1], xlabel='neutral multiplicity', ax=ax[3,0], **arg_test)\n",
    "\n",
    "xlim, ylim = (0, 70), (0, 0.08)\n",
    "data.histplot_multiplicities(state=[1,2], xlabel='hadron multiplicity', ax=ax[3,1], **arg_test)\n",
    "\n",
    "xlim = (-0.5,7)\n",
    "data.histplot_multiplicities(state=[4,5], xlabel='lepton multiplicity', ax=ax[3,2], **arg_test)\n",
    "\n",
    "xlim, ylim = (0, 50), (0, 0.08)\n",
    "data.histplot_multiplicities(state=0, xlabel='photon multiplicity', ax=ax[3,3], **arg_test)\n",
    "\n",
    "plt.legend(fontsize=7)\n",
    "\n",
    "plt.tight_layout()\n",
    "plt.show()"
   ]
  },
  {
   "cell_type": "code",
   "execution_count": null,
   "id": "c76d3378",
   "metadata": {},
   "outputs": [],
   "source": []
  }
 ],
 "metadata": {
  "kernelspec": {
   "display_name": "Python 3 (ipykernel)",
   "language": "python",
   "name": "python3"
  },
  "language_info": {
   "codemirror_mode": {
    "name": "ipython",
    "version": 3
   },
   "file_extension": ".py",
   "mimetype": "text/x-python",
   "name": "python",
   "nbconvert_exporter": "python",
   "pygments_lexer": "ipython3",
   "version": "3.10.9"
  }
 },
 "nbformat": 4,
 "nbformat_minor": 5
}
