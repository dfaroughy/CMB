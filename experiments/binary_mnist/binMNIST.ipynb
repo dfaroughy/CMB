{
 "cells": [
  {
   "cell_type": "code",
   "execution_count": 8,
   "metadata": {},
   "outputs": [],
   "source": [
    "import torch\n",
    "import numpy as np\n",
    "from dataclasses import dataclass, field\n",
    "from typing import List, Tuple\n",
    "\n",
    "@dataclass\n",
    "class Configs:\n",
    "    #...general params:\n",
    "    workdir : str = '../../results/mnist_test/'   \n",
    "    device : str = 'cuda:0'\n",
    "    multi_gpu : bool = False\n",
    "\n",
    "\n",
    "    #...data params:\n",
    "    target : str = 'digits'\n",
    "    source : str = 'noise'\n",
    "    dim_discrete : int = 1\n",
    "    dim_context : int = 0\n",
    "    vocab_size : int = 2\n",
    "    input_shape : Tuple[float] = field(default_factory = lambda : (1, 28, 28))\n",
    "    flat_image : bool = True\n",
    "\n",
    "#...model params:\n",
    "    model : str = 'mlp'\n",
    "    num_layers : int = 4\n",
    "    dim_hidden : int = 64 \n",
    "    dim_time_emb : int = 16\n",
    "    dim_discrete_emb : int = 16\n",
    "    time_embedding  : str = 'kolmogorov-arnold'     \n",
    "    dropout : float = 0.0\n",
    "    activation : str = 'SELU'\n",
    "    use_batch_norm : bool = False\n",
    "    \n",
    "    #...training params:\n",
    "    batch_size : int = 128\n",
    "    data_split_frac : List[float] = field(default_factory = lambda : [0.83334, 0.16667, 0.0])  # train / val / test \n",
    "    epochs: int = 100\n",
    "    early_stopping : int = None\n",
    "    min_epochs : int = None \n",
    "    print_epochs : int = None   \n",
    "    num_workers : int = 0\n",
    "    pin_memory: bool = False\n",
    "\n",
    "    #...cjb params:\n",
    "    dynamics : str = 'CJB'\n",
    "    gamma: float = 0.01\n",
    "\n",
    "    #...optimization & scheduler params:\n",
    "    optimizer: str = 'Adam'\n",
    "    lr : float = 2e-4\n",
    "    weight_decay : float = 0.0\n",
    "    optimizer_betas : List[float] = field(default_factory = lambda : [0.9, 0.999])\n",
    "    optimizer_eps : float = 1e-8\n",
    "    optimizer_amsgrad : bool = False\n",
    "    gradient_clip : float = None\n",
    "    scheduler: str = None\n",
    "    scheduler_t_max: int = None\n",
    "    scheduler_eta_min: float = None\n",
    "    scheduler_gamma: float = None\n",
    "    scheduler_step_size: int = None\n",
    "\n",
    "    #...generation pipeline params:\n",
    "    sampler : str = 'TauLeapingSolver'\n",
    "    num_timesteps : int = 100\n",
    "    time_eps : float = 1e-3\n",
    "\n",
    "\n",
    "    def __post_init__(self):\n",
    "\n",
    "        self.dim_discrete = np.prod(self.input_shape)\n",
    "        self.data = self.source + '_to_' + self.target\n",
    "\n",
    "\n"
   ]
  },
  {
   "cell_type": "markdown",
   "metadata": {},
   "source": [
    "# Data"
   ]
  },
  {
   "cell_type": "code",
   "execution_count": 9,
   "metadata": {},
   "outputs": [
    {
     "data": {
      "image/png": "[encoded data removed]",
      "text/plain": [
       "<PIL.Image.Image image mode=L size=28x56>"
      ]
     },
     "execution_count": 9,
     "metadata": {},
     "output_type": "execute_result"
    }
   ],
   "source": [
    "from torchvision.transforms import ToPILImage\n",
    "from cmb.data.binary_mnist import CouplingData\n",
    "\n",
    "config = Configs()\n",
    "images = CouplingData(config)\n",
    "transform = ToPILImage()\n",
    "pair = torch.cat([images.source.discrete[0].view(1, 28,28), images.target.discrete[0].view( 1, 28,28)], dim=1)\n",
    "transform(pair)\n",
    "\n"
   ]
  },
  {
   "cell_type": "markdown",
   "metadata": {},
   "source": [
    "# Train model"
   ]
  },
  {
   "cell_type": "code",
   "execution_count": 10,
   "metadata": {},
   "outputs": [
    {
     "name": "stderr",
     "output_type": "stream",
     "text": [
      "number of training parameters: 2119584\n",
      "start training...\n"
     ]
    },
    {
     "name": "stdout",
     "output_type": "stream",
     "text": [
      "INFO: building dataloaders...\n",
      "INFO: train/val/test split ratios: 0.83334/0.16667/0.0\n",
      "INFO: train size: 58333, validation size: 11666, testing sizes: 0\n"
     ]
    },
    {
     "data": {
      "application/vnd.jupyter.widget-view+json": {
       "model_id": "f77bcceb523141b7ac357789cbe8ac68",
       "version_major": 2,
       "version_minor": 0
      },
      "text/plain": [
       "epochs:   0%|          | 0/100 [00:00<?, ?it/s]"
      ]
     },
     "metadata": {},
     "output_type": "display_data"
    }
   ],
   "source": [
    "from cmb.models.architectures.classifiers import DiscreteStateMLP\n",
    "from cmb.dynamics.cjb import ConditionalJumpBridge\n",
    "from cmb.models.trainers import CMBTrainer\n",
    "\n",
    "config = Configs()\n",
    "images = CouplingData(config)\n",
    "dynamics = ConditionalJumpBridge(config)\n",
    "classifier = DiscreteStateMLP(config)\n",
    "generative_model = CMBTrainer(dynamics, classifier, images)\n",
    "generative_model.train()"
   ]
  },
  {
   "cell_type": "markdown",
   "metadata": {},
   "source": [
    "# Generate samples"
   ]
  },
  {
   "cell_type": "code",
   "execution_count": 11,
   "metadata": {},
   "outputs": [],
   "source": [
    "import torch\n",
    "from dataclasses import dataclass\n",
    "import torchdyn\n",
    "from torchdyn.core import NeuralODE\n",
    "\n",
    "\n",
    "class Pipeline:\n",
    "    def __init__(self, \n",
    "                 trained_model, \n",
    "                 config: dataclass=None,\n",
    "                 best_epoch_model: bool=True\n",
    "                 ):\n",
    "\n",
    "        self.config = config\n",
    "        self.model = trained_model.best_epoch_model if best_epoch_model else trained_model.last_epoch_model\n",
    "        self.time_steps = torch.linspace(0.0, 1.0 - config.time_eps, config.num_timesteps)\n",
    "\n",
    "    @torch.no_grad()\n",
    "    def generate_samples(self, **source):\n",
    "        \n",
    "        if self.config.sampler == 'EulerSolver':\n",
    "            solver = EulerSolver(model=self.model, config=self.config)\n",
    "            paths = solver.simulate(time_steps=self.time_steps, **source)\n",
    "            self.paths = paths.detach().cpu()\n",
    "\n",
    "        if self.config.sampler == 'TauLeapingSolver':\n",
    "            solver = TauLeapingSolver(model=self.model, config=self.config)\n",
    "            jumps = solver.simulate(time_steps=self.time_steps, **source)\n",
    "            self.jumps = jumps.detach().cpu()\n",
    "\n",
    "\n",
    "class TauLeapingSolver:\n",
    "    def __init__(self, model, config):\n",
    "        self.model = model\n",
    "        self.device = config.device\n",
    "        self.dim_discrete = config.dim_discrete\n",
    "        self.vocab_size = config.vocab_size \n",
    "\n",
    "    def simulate(self, time_steps, source_discrete, context=None, mask=None):\n",
    "        k = source_discrete.to(self.device)\n",
    "        time_steps = time_steps.to(self.device)\n",
    "        context = context.to(self.device) if context is not None else None\n",
    "        mask = mask.to(self.device) if mask is not None else None\n",
    "\n",
    "        delta_t = (time_steps[-1] - time_steps[0]) / (len(time_steps) - 1)\n",
    "        jumps = [k]\n",
    "\n",
    "        for time in time_steps[1:]:\n",
    "            time = torch.full((k.size(0), 1), time.item(), device=self.device)\n",
    "            rates = self.model(t=time, k=k, context=context, output_rates=True).to(self.device)\n",
    "            max_rate = torch.max(rates, dim=2)[1]\n",
    "            all_jumps = torch.poisson(rates * delta_t).to(self.device) \n",
    "            mask =  torch.sum(all_jumps, dim=-1).type_as(k) <= 1\n",
    "            diff = torch.arange(self.vocab_size, device=self.device).view(1, 1, self.vocab_size) - k[:,:, None]\n",
    "            net_jumps = torch.sum(all_jumps * diff, dim=-1).type_as(k)\n",
    "            k += net_jumps * mask\n",
    "            k = torch.clamp(k, min=0, max=self.vocab_size-1)            \n",
    "            jumps.append(k.clone())\n",
    "\n",
    "        jumps = torch.stack(jumps)\n",
    "        jumps[-1] = max_rate # replace last jump with max rates\n",
    "\n",
    "        return jumps\n",
    "    \n",
    "\n",
    "class EulerSolver:\n",
    "    def __init__(self, model, config):\n",
    "        self.model = model # velocity field\n",
    "        self.device = config.device\n",
    "\n",
    "    def simulate(self, time_steps, source_continuous, context=None, mask=None):\n",
    "        \n",
    "        x = source_continuous.to(self.device)\n",
    "        time_steps = time_steps.to(self.device)\n",
    "        context = context.to(self.device) if context is not None else None\n",
    "        mask = mask.to(self.device) if mask is not None else None\n",
    "        \n",
    "        delta_t = (time_steps[-1] - time_steps[0]) / (len(time_steps) - 1)\n",
    "        paths = [x]\n",
    "\n",
    "        for time in time_steps[1:]:\n",
    "            time = torch.full((x.size(0), 1), time.item(), device=self.device)\n",
    "            v = self.model(t=time, x=x, context=context, mask=mask).to(self.device)\n",
    "            x += delta_t * v\n",
    "            paths.append(x)\n",
    "        \n",
    "        paths = torch.stack(paths)\n",
    "\n",
    "        return paths"
   ]
  },
  {
   "cell_type": "code",
   "execution_count": 12,
   "metadata": {},
   "outputs": [],
   "source": [
    "num_samples = 16\n",
    "pipeline = Pipeline(trained_model=generative_model, config=config)\n",
    "input = CouplingData(config)\n",
    "pipeline.generate_samples(source_discrete=input.source.discrete.long()[-num_samples:])\n"
   ]
  },
  {
   "cell_type": "code",
   "execution_count": 13,
   "metadata": {},
   "outputs": [],
   "source": [
    "sample = pipeline.jumps.view(config.num_timesteps, num_samples, 1, 28, 28).float()\n",
    "# k1 = pipeline.k1.view(num_samples, 1, 28, 28).float()\n"
   ]
  },
  {
   "cell_type": "markdown",
   "metadata": {},
   "source": [
    "### MLP embedding (10 epochs)"
   ]
  },
  {
   "cell_type": "code",
   "execution_count": 14,
   "metadata": {},
   "outputs": [
    {
     "data": {
      "image/png": "[encoded data removed]",
      "text/plain": [
       "<PIL.Image.Image image mode=L size=308x280>"
      ]
     },
     "execution_count": 14,
     "metadata": {},
     "output_type": "execute_result"
    }
   ],
   "source": [
    "import random\n",
    "\n",
    "from torchvision.transforms import ToPILImage\n",
    "\n",
    "transform = ToPILImage()\n",
    "generated_sample = []\n",
    "\n",
    "boundary = torch\n",
    "\n",
    "for idx in random.sample(range(0, num_samples), 10):\n",
    "    img = []\n",
    "    img1 = []\n",
    "    \n",
    "    for time_step in range(0, config.num_timesteps, 10):\n",
    "        img.append(sample[time_step, idx,:,:,:]) \n",
    "    img.append(sample[-1, idx,:,:,:]) \n",
    "    # img.append(k1[idx,:,:,:])\n",
    "    img = torch.cat(img, dim=-1)\n",
    "    generated_sample.append(img)\n",
    "\n",
    "generated_sample = torch.cat(generated_sample, dim=1)\n",
    "transform(generated_sample)"
   ]
  },
  {
   "cell_type": "markdown",
   "metadata": {},
   "source": [
    "### KAN embedding (10 epochs)"
   ]
  },
  {
   "cell_type": "code",
   "execution_count": 6,
   "metadata": {},
   "outputs": [
    {
     "data": {
      "image/png": "[encoded data removed]",
      "text/plain": [
       "<PIL.Image.Image image mode=L size=336x280>"
      ]
     },
     "execution_count": 6,
     "metadata": {},
     "output_type": "execute_result"
    }
   ],
   "source": [
    "import random\n",
    "\n",
    "from torchvision.transforms import ToPILImage\n",
    "\n",
    "transform = ToPILImage()\n",
    "generated_sample = []\n",
    "\n",
    "boundary = torch\n",
    "\n",
    "for idx in random.sample(range(0, num_samples), 10):\n",
    "    img = []\n",
    "    img1 = []\n",
    "    \n",
    "    for time_step in range(0, config.num_timesteps, 10):\n",
    "        img.append(sample[time_step, idx,:,:,:]) \n",
    "    img.append(sample[-1, idx,:,:,:]) \n",
    "    img.append(k1[idx,:,:,:])\n",
    "    img = torch.cat(img, dim=-1)\n",
    "    generated_sample.append(img)\n",
    "\n",
    "generated_sample = torch.cat(generated_sample, dim=1)\n",
    "transform(generated_sample)"
   ]
  },
  {
   "cell_type": "code",
   "execution_count": null,
   "metadata": {},
   "outputs": [],
   "source": []
  }
 ],
 "metadata": {
  "kernelspec": {
   "display_name": "flow_match_env",
   "language": "python",
   "name": "python3"
  },
  "language_info": {
   "codemirror_mode": {
    "name": "ipython",
    "version": 3
   },
   "file_extension": ".py",
   "mimetype": "text/x-python",
   "name": "python",
   "nbconvert_exporter": "python",
   "pygments_lexer": "ipython3",
   "version": "3.9.16"
  },
  "orig_nbformat": 4
 },
 "nbformat": 4,
 "nbformat_minor": 2
}
